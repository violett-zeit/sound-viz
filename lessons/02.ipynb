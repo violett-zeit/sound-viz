{
 "cells": [
  {
   "cell_type": "markdown",
   "metadata": {},
   "source": [
    "# 2주차: Pandas로 구조화된 데이터 다루기\n",
    "\n",
    "## 학습 목표\n",
    "- 구조화된 데이터를 효율적으로 다루는 방법을 익히자\n",
    "- Series와 DataFrame의 개념과 활용법을 이해하자\n",
    "- 데이터 선택, 필터링, 정렬 기법을 연습하자\n",
    "- groupby와 집계 함수로 데이터를 요약하고 분석하자"
   ]
  },
  {
   "cell_type": "markdown",
   "metadata": {},
   "source": [
    "## 1. Pandas 라이브러리 소개\n",
    "\n",
    "Pandas는 데이터 분석을 위한 파이썬의 핵심 라이브러리다. 음원 분석 연구에서 메타데이터 관리, 특징 추출 결과 정리, 실험 결과 분석 등에 필수적이다.\n",
    "\n",
    "구조화된 데이터를 다루기 위한 Series와 DataFrame이라는 두 가지 주요 자료구조를 제공한다.\n",
    "엑셀이나 SQL 데이터베이스의 기능을 파이썬에서 구현할 수 있게 해준다.\n",
    "음원 데이터의 메타정보(파일명, 장르, BPM, 길이 등)를 체계적으로 관리하고 분석할 수 있다."
   ]
  },
  {
   "cell_type": "code",
   "execution_count": null,
   "metadata": {},
   "outputs": [],
   "source": [
    "import pandas as pd\n",
    "import numpy as np\n",
    "import matplotlib.pyplot as plt\n",
    "import warnings\n",
    "warnings.filterwarnings('ignore')\n",
    "\n",
    "# 기본 설정\n",
    "plt.rcParams['axes.unicode_minus'] = False\n",
    "plt.rcParams['figure.figsize'] = (10, 6)\n",
    "pd.set_option('display.max_columns', None)\n",
    "pd.set_option('display.width', 100)\n",
    "\n",
    "print(f\"Pandas 버전: {pd.__version__}\")\n",
    "print(\"Pandas 라이브러리 로딩 완료!\")"
   ]
  },
  {
   "cell_type": "markdown",
   "metadata": {},
   "source": [
    "## 2. Series - 1차원 데이터 구조\n",
    "\n",
    "### 2.1 Series 생성과 기본 조작\n",
    "\n",
    "Series는 인덱스가 있는 1차원 배열로, NumPy 배열의 확장 버전이라고 볼 수 있다.\n",
    "각 데이터 포인트에 라벨(인덱스)을 부여할 수 있어 데이터를 더 직관적으로 다룰 수 있다.\n",
    "음원 분석에서는 단일 특징값들(예: 각 트랙의 BPM)을 저장하는 데 유용하다."
   ]
  },
  {
   "cell_type": "code",
   "execution_count": null,
   "metadata": {},
   "outputs": [],
   "source": [
    "# Series 생성 - 리스트로부터\n",
    "bpm_values = pd.Series([120, 128, 140, 96, 110])\n",
    "print(\"BPM Series:\")\n",
    "print(bpm_values)\n",
    "print()\n",
    "\n",
    "# 인덱스를 지정한 Series\n",
    "tracks = ['Track_A', 'Track_B', 'Track_C', 'Track_D', 'Track_E']\n",
    "bpm_series = pd.Series([120, 128, 140, 96, 110], index=tracks)\n",
    "print(\"인덱스가 있는 BPM Series:\")\n",
    "print(bpm_series)\n",
    "print()\n",
    "\n",
    "# 딕셔너리로부터 Series 생성\n",
    "genre_dict = {\n",
    "    'Track_A': 'House',\n",
    "    'Track_B': 'Techno',\n",
    "    'Track_C': 'Drum&Bass',\n",
    "    'Track_D': 'Hip-Hop',\n",
    "    'Track_E': 'Pop'\n",
    "}\n",
    "genre_series = pd.Series(genre_dict)\n",
    "print(\"장르 Series:\")\n",
    "print(genre_series)"
   ]
  },
  {
   "cell_type": "markdown",
   "metadata": {},
   "source": [
    "### 2.2 Series 인덱싱과 슬라이싱\n",
    "\n",
    "Series는 정수 인덱스와 라벨 인덱스를 모두 지원한다.\n",
    "NumPy 배열처럼 슬라이싱이 가능하며, 딕셔너리처럼 키로 접근할 수도 있다.\n",
    "불리언 인덱싱을 통해 조건에 맞는 데이터만 선택할 수 있다."
   ]
  },
  {
   "cell_type": "code",
   "execution_count": null,
   "metadata": {},
   "outputs": [],
   "source": [
    "# 인덱스를 통한 접근\n",
    "print(\"Track_A의 BPM:\", bpm_series['Track_A'])\n",
    "print(\"첫 번째 트랙의 BPM:\", bpm_series.iloc[0])\n",
    "print()\n",
    "\n",
    "# 슬라이싱\n",
    "print(\"처음 3개 트랙:\")\n",
    "print(bpm_series[:3])\n",
    "print()\n",
    "\n",
    "# 조건부 선택\n",
    "fast_tracks = bpm_series[bpm_series > 120]\n",
    "print(\"BPM이 120보다 빠른 트랙:\")\n",
    "print(fast_tracks)\n",
    "print()\n",
    "\n",
    "# 여러 인덱스 선택\n",
    "selected_tracks = bpm_series[['Track_A', 'Track_C', 'Track_E']]\n",
    "print(\"선택된 트랙들:\")\n",
    "print(selected_tracks)"
   ]
  },
  {
   "cell_type": "markdown",
   "metadata": {},
   "source": [
    "## 3. DataFrame - 2차원 데이터 구조\n",
    "\n",
    "### 3.1 DataFrame 생성\n",
    "\n",
    "DataFrame은 표 형태의 2차원 데이터 구조로, 엑셀 스프레드시트와 유사하다.\n",
    "각 열(column)은 Series로 구성되며, 서로 다른 데이터 타입을 가질 수 있다.\n",
    "음원 데이터셋의 다양한 특징들을 하나의 표로 관리할 때 매우 유용하다."
   ]
  },
  {
   "cell_type": "code",
   "execution_count": null,
   "metadata": {},
   "outputs": [],
   "source": [
    "# 딕셔너리로 DataFrame 생성\n",
    "audio_data = {\n",
    "    'filename': ['track1.wav', 'track2.wav', 'track3.wav', 'track4.wav', 'track5.wav'],\n",
    "    'duration': [180, 240, 200, 165, 210],  # 초 단위\n",
    "    'bpm': [120, 128, 140, 96, 110],\n",
    "    'genre': ['House', 'Techno', 'Drum&Bass', 'Hip-Hop', 'Pop'],\n",
    "    'energy': [0.8, 0.9, 0.95, 0.6, 0.7]\n",
    "}\n",
    "\n",
    "df = pd.DataFrame(audio_data)\n",
    "print(\"음원 데이터프레임:\")\n",
    "print(df)\n",
    "print()\n",
    "print(\"데이터프레임 정보:\")\n",
    "print(df.info())"
   ]
  },
  {
   "cell_type": "markdown",
   "metadata": {},
   "source": [
    "### 3.2 DataFrame 기본 속성과 메서드\n",
    "\n",
    "DataFrame은 데이터를 탐색하고 이해하는 데 필요한 다양한 속성과 메서드를 제공한다.\n",
    "shape, columns, dtypes 등의 속성으로 데이터의 구조를 파악할 수 있다.\n",
    "head(), tail(), describe() 등의 메서드로 데이터를 빠르게 살펴볼 수 있다."
   ]
  },
  {
   "cell_type": "code",
   "execution_count": null,
   "metadata": {},
   "outputs": [],
   "source": [
    "# 기본 속성\n",
    "print(f\"DataFrame 형태: {df.shape}\")\n",
    "print(f\"행 개수: {len(df)}\")\n",
    "print(f\"열 이름: {df.columns.tolist()}\")\n",
    "print(f\"인덱스: {df.index.tolist()}\")\n",
    "print()\n",
    "\n",
    "# 데이터 타입\n",
    "print(\"각 열의 데이터 타입:\")\n",
    "print(df.dtypes)\n",
    "print()\n",
    "\n",
    "# 기본 통계\n",
    "print(\"수치형 데이터 통계:\")\n",
    "print(df.describe())\n",
    "print()\n",
    "\n",
    "# 처음/마지막 데이터 확인\n",
    "print(\"처음 3개 행:\")\n",
    "print(df.head(3))"
   ]
  },
  {
   "cell_type": "markdown",
   "metadata": {},
   "source": [
    "## 4. 데이터 선택과 필터링\n",
    "\n",
    "### 4.1 열(Column) 선택\n",
    "\n",
    "DataFrame에서 특정 열을 선택하는 것은 데이터 분석의 기본이다.\n",
    "단일 열을 선택하면 Series가 반환되고, 여러 열을 선택하면 DataFrame이 반환된다.\n",
    "대괄호 표기법과 점 표기법을 모두 사용할 수 있지만, 대괄호가 더 안전하고 유연하다."
   ]
  },
  {
   "cell_type": "code",
   "execution_count": null,
   "metadata": {},
   "outputs": [],
   "source": [
    "# 단일 열 선택 (Series 반환)\n",
    "bpm_column = df['bpm']\n",
    "print(\"BPM 열 (Series):\")\n",
    "print(bpm_column)\n",
    "print(f\"타입: {type(bpm_column)}\")\n",
    "print()\n",
    "\n",
    "# 여러 열 선택 (DataFrame 반환)\n",
    "selected_cols = df[['filename', 'bpm', 'genre']]\n",
    "print(\"선택된 열들 (DataFrame):\")\n",
    "print(selected_cols)\n",
    "print(f\"타입: {type(selected_cols)}\")\n",
    "print()\n",
    "\n",
    "# 새로운 열 추가\n",
    "df['duration_min'] = df['duration'] / 60\n",
    "print(\"분 단위 duration 열 추가:\")\n",
    "print(df[['filename', 'duration', 'duration_min']])"
   ]
  },
  {
   "cell_type": "markdown",
   "metadata": {},
   "source": [
    "### 4.2 조건부 필터링\n",
    "\n",
    "불리언 인덱싱을 통해 특정 조건을 만족하는 행만 선택할 수 있다.\n",
    "여러 조건을 조합할 때는 &(and), |(or), ~(not) 연산자를 사용한다.\n",
    "query() 메서드를 사용하면 SQL과 유사한 문법으로 필터링할 수 있다."
   ]
  },
  {
   "cell_type": "code",
   "execution_count": null,
   "metadata": {},
   "outputs": [],
   "source": [
    "# 단일 조건 필터링\n",
    "fast_tracks = df[df['bpm'] > 120]\n",
    "print(\"BPM이 120 초과인 트랙:\")\n",
    "print(fast_tracks)\n",
    "print()\n",
    "\n",
    "# 복합 조건 필터링\n",
    "electronic_fast = df[(df['bpm'] > 120) & (df['genre'].isin(['Techno', 'House', 'Drum&Bass']))]\n",
    "print(\"빠른 일렉트로닉 트랙:\")\n",
    "print(electronic_fast)\n",
    "print()\n",
    "\n",
    "# query 메서드 사용\n",
    "long_energetic = df.query('duration > 180 and energy > 0.7')\n",
    "print(\"3분 이상이면서 에너지가 높은 트랙:\")\n",
    "print(long_energetic)\n",
    "print()\n",
    "\n",
    "# isin() 메서드로 여러 값 중 하나 선택\n",
    "selected_genres = df[df['genre'].isin(['House', 'Techno'])]\n",
    "print(\"House 또는 Techno 트랙:\")\n",
    "print(selected_genres)"
   ]
  },
  {
   "cell_type": "markdown",
   "metadata": {},
   "source": [
    "### 4.3 loc과 iloc을 이용한 선택\n",
    "\n",
    "loc은 라벨 기반 인덱싱, iloc은 정수 위치 기반 인덱싱을 제공한다.\n",
    "loc은 슬라이싱 시 끝점을 포함하고, iloc은 파이썬의 일반적인 슬라이싱처럼 끝점을 제외한다.\n",
    "행과 열을 동시에 선택할 때 매우 유용하며, 데이터의 특정 부분을 정확하게 선택할 수 있다."
   ]
  },
  {
   "cell_type": "code",
   "execution_count": null,
   "metadata": {},
   "outputs": [],
   "source": [
    "# loc - 라벨 기반 선택\n",
    "print(\"loc을 사용한 선택:\")\n",
    "print(\"행 1의 'bpm'과 'genre':\", df.loc[1, ['bpm', 'genre']].tolist())\n",
    "print()\n",
    "print(\"행 0~2의 'filename'부터 'genre'까지:\")\n",
    "print(df.loc[0:2, 'filename':'genre'])\n",
    "print()\n",
    "\n",
    "# iloc - 위치 기반 선택\n",
    "print(\"iloc을 사용한 선택:\")\n",
    "print(\"첫 번째 행, 두 번째 열:\", df.iloc[0, 1])\n",
    "print()\n",
    "print(\"처음 3행, 처음 3열:\")\n",
    "print(df.iloc[:3, :3])\n",
    "print()\n",
    "\n",
    "# 조건과 함께 사용\n",
    "high_energy_bpm = df.loc[df['energy'] > 0.7, ['filename', 'bpm', 'energy']]\n",
    "print(\"에너지가 높은 트랙의 BPM:\")\n",
    "print(high_energy_bpm)"
   ]
  },
  {
   "cell_type": "markdown",
   "metadata": {},
   "source": [
    "## 5. 데이터 정렬\n",
    "\n",
    "### 5.1 값 기준 정렬\n",
    "\n",
    "데이터를 특정 열의 값을 기준으로 정렬하는 것은 데이터 탐색의 기본이다.\n",
    "sort_values() 메서드를 사용하여 오름차순 또는 내림차순으로 정렬할 수 있다.\n",
    "여러 열을 기준으로 정렬할 수도 있으며, 각 열마다 다른 정렬 방향을 지정할 수 있다."
   ]
  },
  {
   "cell_type": "code",
   "execution_count": null,
   "metadata": {},
   "outputs": [],
   "source": [
    "# BPM으로 정렬 (오름차순)\n",
    "sorted_by_bpm = df.sort_values('bpm')\n",
    "print(\"BPM 오름차순 정렬:\")\n",
    "print(sorted_by_bpm[['filename', 'bpm', 'genre']])\n",
    "print()\n",
    "\n",
    "# 에너지로 정렬 (내림차순)\n",
    "sorted_by_energy = df.sort_values('energy', ascending=False)\n",
    "print(\"에너지 내림차순 정렬:\")\n",
    "print(sorted_by_energy[['filename', 'energy', 'genre']])\n",
    "print()\n",
    "\n",
    "# 여러 열로 정렬\n",
    "sorted_multi = df.sort_values(['genre', 'bpm'], ascending=[True, False])\n",
    "print(\"장르별로 정렬 후 BPM 내림차순:\")\n",
    "print(sorted_multi[['filename', 'genre', 'bpm']])"
   ]
  },
  {
   "cell_type": "markdown",
   "metadata": {},
   "source": [
    "## 6. GroupBy와 집계 함수\n",
    "\n",
    "### 6.1 기본 GroupBy 연산\n",
    "\n",
    "GroupBy는 데이터를 그룹별로 나누어 분석할 수 있게 해주는 강력한 기능이다.\n",
    "Split-Apply-Combine 패러다임을 따르며, SQL의 GROUP BY와 유사한 기능을 제공한다.\n",
    "음원 데이터를 장르별, 아티스트별로 분석할 때 매우 유용하다."
   ]
  },
  {
   "cell_type": "code",
   "execution_count": null,
   "metadata": {},
   "outputs": [],
   "source": [
    "# 더 많은 데이터로 DataFrame 확장\n",
    "extended_data = {\n",
    "    'filename': ['track1.wav', 'track2.wav', 'track3.wav', 'track4.wav', 'track5.wav',\n",
    "                 'track6.wav', 'track7.wav', 'track8.wav', 'track9.wav', 'track10.wav'],\n",
    "    'duration': [180, 240, 200, 165, 210, 195, 220, 175, 205, 190],\n",
    "    'bpm': [120, 128, 140, 96, 110, 125, 130, 95, 118, 122],\n",
    "    'genre': ['House', 'Techno', 'Drum&Bass', 'Hip-Hop', 'Pop',\n",
    "              'House', 'Techno', 'Hip-Hop', 'Pop', 'House'],\n",
    "    'energy': [0.8, 0.9, 0.95, 0.6, 0.7, 0.85, 0.88, 0.55, 0.75, 0.82],\n",
    "    'year': [2020, 2021, 2022, 2020, 2021, 2022, 2021, 2020, 2022, 2021]\n",
    "}\n",
    "\n",
    "df_extended = pd.DataFrame(extended_data)\n",
    "\n",
    "# 장르별 그룹화\n",
    "genre_groups = df_extended.groupby('genre')\n",
    "\n",
    "# 기본 집계\n",
    "print(\"장르별 평균 BPM:\")\n",
    "print(genre_groups['bpm'].mean().round(1))\n",
    "print()\n",
    "\n",
    "print(\"장르별 트랙 수:\")\n",
    "print(genre_groups.size())\n",
    "print()\n",
    "\n",
    "# 여러 집계 함수 적용\n",
    "print(\"장르별 다양한 통계:\")\n",
    "genre_stats = genre_groups.agg({\n",
    "    'bpm': ['mean', 'min', 'max'],\n",
    "    'energy': 'mean',\n",
    "    'duration': 'mean'\n",
    "}).round(2)\n",
    "print(genre_stats)"
   ]
  },
  {
   "cell_type": "markdown",
   "metadata": {},
   "source": [
    "### 6.2 다중 그룹화와 피벗 테이블\n",
    "\n",
    "여러 열을 기준으로 그룹화하면 더 세밀한 분석이 가능하다.\n",
    "pivot_table() 함수는 엑셀의 피벗 테이블과 같은 기능을 제공한다.\n",
    "교차 분석과 다차원 집계를 통해 데이터의 패턴을 발견할 수 있다."
   ]
  },
  {
   "cell_type": "code",
   "execution_count": null,
   "metadata": {},
   "outputs": [],
   "source": [
    "# 다중 그룹화\n",
    "multi_group = df_extended.groupby(['genre', 'year'])\n",
    "print(\"장르와 연도별 평균 에너지:\")\n",
    "print(multi_group['energy'].mean().round(2))\n",
    "print()\n",
    "\n",
    "print(df_extended)\n",
    "print()\n",
    "\n",
    "# 피벗 테이블 생성\n",
    "pivot = pd.pivot_table(df_extended, \n",
    "                       values='duration',\n",
    "                       index='year',\n",
    "                       columns='genre',\n",
    "                       aggfunc='mean',\n",
    "                       fill_value=None)\n",
    "print(\"장르-연도별 평균 에너지 피벗 테이블:\")\n",
    "print(pivot.round(2))\n",
    "print()\n",
    "\n",
    "# 여러 값에 대한 피벗 테이블\n",
    "multi_pivot = pd.pivot_table(df_extended,\n",
    "                            values=['bpm', 'energy'],\n",
    "                            index='genre',\n",
    "                            aggfunc={'bpm': 'mean', 'energy': 'max'})\n",
    "print(\"장르별 평균 BPM과 최대 에너지:\")\n",
    "print(multi_pivot.round(2))"
   ]
  },
  {
   "cell_type": "markdown",
   "metadata": {},
   "source": [
    "## 7. 결측치 처리\n",
    "\n",
    "### 7.1 결측치 확인과 처리\n",
    "\n",
    "실제 데이터에는 항상 결측치(missing values)가 존재한다.\n",
    "결측치를 어떻게 처리하느냐에 따라 분석 결과가 크게 달라질 수 있다.\n",
    "Pandas는 결측치를 확인하고 처리하는 다양한 방법을 제공한다."
   ]
  },
  {
   "cell_type": "code",
   "execution_count": null,
   "metadata": {},
   "outputs": [],
   "source": [
    "# 결측치가 있는 데이터 생성\n",
    "data_with_nan = {\n",
    "    'track_id': ['T001', 'T002', 'T003', 'T004', 'T005'],\n",
    "    'artist': ['Artist_A', 'Artist_B', None, 'Artist_D', 'Artist_E'],\n",
    "    'bpm': [120, None, 140, 96, 110],\n",
    "    'key': ['C', 'G', 'A', None, 'D'],\n",
    "    'loudness': [-5.2, -4.8, None, -6.1, -5.5]\n",
    "}\n",
    "\n",
    "df_nan = pd.DataFrame(data_with_nan)\n",
    "print(\"결측치가 있는 DataFrame:\")\n",
    "print(df_nan)\n",
    "print()\n",
    "\n",
    "# 결측치 확인\n",
    "print(\"결측치 개수:\")\n",
    "print(df_nan.isnull().sum())\n",
    "print()\n",
    "\n",
    "print(\"결측치 비율:\")\n",
    "print((df_nan.isnull().sum() / len(df_nan) * 100).round(1))\n",
    "print()\n",
    "\n",
    "# 결측치가 있는 행 확인\n",
    "print(\"결측치가 있는 행:\")\n",
    "print(df_nan.isnull())\n",
    "print(df_nan[df_nan.isnull().any(axis=1)])"
   ]
  },
  {
   "cell_type": "markdown",
   "metadata": {},
   "source": [
    "### 7.2 결측치 처리 전략\n",
    "\n",
    "결측치 처리에는 여러 전략이 있으며, 데이터의 특성에 따라 적절한 방법을 선택해야 한다.\n",
    "삭제, 대체, 보간 등의 방법을 사용할 수 있으며, 각각 장단점이 있다.\n",
    "음원 데이터에서는 특히 메타데이터의 결측치를 신중하게 처리해야 한다."
   ]
  },
  {
   "cell_type": "code",
   "execution_count": null,
   "metadata": {},
   "outputs": [],
   "source": [
    "# 결측치 삭제\n",
    "df_dropped = df_nan.dropna()  # 결측치가 있는 모든 행 삭제\n",
    "print(\"결측치가 있는 행 삭제:\")\n",
    "print(df_dropped)\n",
    "print()\n",
    "\n",
    "# 특정 열의 결측치만 고려하여 삭제\n",
    "df_dropped_bpm = df_nan.dropna(subset=['bpm'])\n",
    "print(\"BPM 결측치가 있는 행만 삭제:\")\n",
    "print(df_dropped_bpm)\n",
    "print()\n",
    "\n",
    "# 결측치 채우기\n",
    "df_filled = df_nan.copy()\n",
    "df_filled['bpm'].fillna(df_filled['bpm'].mean(), inplace=True)  # 평균으로 채우기\n",
    "df_filled['key'].fillna('Unknown', inplace=True)  # 특정 값으로 채우기\n",
    "df_filled['artist'].fillna(method='ffill', inplace=True)  # 이전 값으로 채우기\n",
    "df_filled['loudness'].fillna(df_filled['loudness'].median(), inplace=True)  # 중앙값으로 채우기\n",
    "\n",
    "print(\"결측치를 채운 DataFrame:\")\n",
    "print(df_filled)\n",
    "print()\n",
    "\n",
    "# 보간법 사용\n",
    "numeric_cols = ['bpm', 'loudness']\n",
    "df_interpolated = df_nan.copy()\n",
    "df_interpolated[numeric_cols] = df_interpolated[numeric_cols].interpolate()\n",
    "print(\"보간법으로 채운 수치형 데이터:\")\n",
    "print(df_interpolated)"
   ]
  },
  {
   "cell_type": "markdown",
   "metadata": {},
   "source": [
    "## 8. 데이터 변환과 연산\n",
    "\n",
    "### 8.1 apply 함수를 이용한 데이터 변환\n",
    "\n",
    "apply() 함수는 DataFrame이나 Series의 각 요소에 함수를 적용할 수 있게 해준다.\n",
    "복잡한 변환 로직을 간결하게 표현할 수 있으며, 벡터화된 연산보다 유연하다.\n",
    "음원 데이터의 특징을 추출하거나 변환할 때 매우 유용하다."
   ]
  },
  {
   "cell_type": "code",
   "execution_count": null,
   "metadata": {},
   "outputs": [],
   "source": [
    "# 샘플 데이터 준비\n",
    "df_transform = df_extended.copy()\n",
    "\n",
    "# 함수를 적용한 새로운 열 생성\n",
    "def categorize_tempo(bpm):\n",
    "    if bpm < 100:\n",
    "        return 'Slow'\n",
    "    elif bpm < 120:\n",
    "        return 'Medium'\n",
    "    elif bpm < 140:\n",
    "        return 'Fast'\n",
    "    else:\n",
    "        return 'Very Fast'\n",
    "\n",
    "df_transform['tempo_category'] = df_transform['bpm'].apply(categorize_tempo)\n",
    "print(\"템포 카테고리 추가:\")\n",
    "print(df_transform[['filename', 'bpm', 'tempo_category']])\n",
    "print()\n",
    "\n",
    "# 여러 열을 사용한 계산\n",
    "df_transform['energy_per_minute'] = df_transform.apply(\n",
    "    lambda row: row['energy'] / (row['duration'] / 60), axis=1\n",
    ")\n",
    "\n",
    "print(\"분당 에너지 계산:\")\n",
    "print(df_transform[['filename', 'energy', 'duration', 'energy_per_minute']].round(3))\n",
    "print()\n",
    "\n",
    "# 문자열 연산\n",
    "df_transform['track_info'] = df_transform.apply(\n",
    "    lambda row: f\"{row['genre']} - {row['bpm']}BPM\", axis=1\n",
    ")\n",
    "print(\"트랙 정보 문자열:\")\n",
    "print(df_transform[['filename', 'track_info']].head())"
   ]
  },
  {
   "cell_type": "markdown",
   "metadata": {},
   "source": [
    "## 9. 데이터 결합\n",
    "\n",
    "### 9.1 DataFrame 병합과 조인\n",
    "\n",
    "여러 데이터소스를 결합하는 것은 실제 데이터 분석에서 매우 중요한 작업이다.\n",
    "merge(), join(), concat() 등의 메서드를 통해 다양한 방식으로 데이터를 결합할 수 있다.\n",
    "음원 데이터와 아티스트 정보, 차트 데이터 등을 결합할 때 필수적이다."
   ]
  },
  {
   "cell_type": "code",
   "execution_count": null,
   "metadata": {},
   "outputs": [],
   "source": [
    "# 첫 번째 DataFrame: 트랙 정보\n",
    "tracks_df = pd.DataFrame({\n",
    "    'track_id': ['T001', 'T002', 'T003', 'T004'],\n",
    "    'title': ['Song A', 'Song B', 'Song C', 'Song D'],\n",
    "    'artist_id': ['A01', 'A02', 'A01', 'A03']\n",
    "})\n",
    "\n",
    "# 두 번째 DataFrame: 아티스트 정보\n",
    "artists_df = pd.DataFrame({\n",
    "    'artist_id': ['A01', 'A02', 'A03'],\n",
    "    'artist_name': ['Artist X', 'Artist Y', 'Artist Z'],\n",
    "    'country': ['USA', 'UK', 'Canada']\n",
    "})\n",
    "\n",
    "# 세 번째 DataFrame: 스트리밍 데이터\n",
    "streaming_df = pd.DataFrame({\n",
    "    'track_id': ['T001', 'T002', 'T003', 'T005'],\n",
    "    'streams': [1000000, 500000, 750000, 200000],\n",
    "    'playlist_adds': [150, 80, 120, 30]\n",
    "})\n",
    "\n",
    "print(\"트랙 정보:\")\n",
    "print(tracks_df)\n",
    "print(\"\\n아티스트 정보:\")\n",
    "print(artists_df)\n",
    "print(\"\\n스트리밍 데이터:\")\n",
    "print(streaming_df)\n",
    "print()\n",
    "\n",
    "# Inner join (교집합)\n",
    "merged_inner = pd.merge(tracks_df, artists_df, on='artist_id')\n",
    "print(\"Inner Join (트랙 + 아티스트):\")\n",
    "print(merged_inner)\n",
    "print()\n",
    "\n",
    "# Left join (왼쪽 기준)\n",
    "merged_left = pd.merge(tracks_df, streaming_df, on='track_id', how='left')\n",
    "print(\"Left Join (트랙 + 스트리밍):\")\n",
    "print(merged_left)\n",
    "print()\n",
    "\n",
    "# 여러 DataFrame 결합\n",
    "full_data = tracks_df.merge(artists_df, on='artist_id').merge(streaming_df, on='track_id', how='left')\n",
    "print(\"전체 데이터 결합:\")\n",
    "print(full_data)"
   ]
  },
  {
   "cell_type": "markdown",
   "metadata": {},
   "source": [
    "## 10. 실전 음원 메타데이터 분석\n",
    "\n",
    "### 10.1 종합 분석 예제\n",
    "\n",
    "지금까지 배운 Pandas 기능들을 활용하여 실제 음원 메타데이터를 분석해보자.\n",
    "데이터 로딩부터 정제, 변환, 분석, 시각화까지 전체 워크플로우를 수행한다.\n",
    "이러한 분석 과정은 실제 음원 연구와 음악 추천 시스템 개발에 직접 활용될 수 있다."
   ]
  },
  {
   "cell_type": "code",
   "execution_count": null,
   "metadata": {},
   "outputs": [],
   "source": [
    "# 종합 음원 데이터셋 생성\n",
    "np.random.seed(42)\n",
    "n_tracks = 50\n",
    "\n",
    "comprehensive_data = {\n",
    "    'track_id': [f'T{i:03d}' for i in range(1, n_tracks + 1)],\n",
    "    'title': [f'Track_{i}' for i in range(1, n_tracks + 1)],\n",
    "    'artist': np.random.choice(['Artist_A', 'Artist_B', 'Artist_C', 'Artist_D', 'Artist_E'], n_tracks),\n",
    "    'genre': np.random.choice(['Pop', 'Rock', 'Electronic', 'Hip-Hop', 'Jazz'], n_tracks, p=[0.3, 0.2, 0.25, 0.15, 0.1]),\n",
    "    'bpm': np.random.randint(60, 180, n_tracks),\n",
    "    'duration_sec': np.random.randint(120, 360, n_tracks),\n",
    "    'energy': np.random.uniform(0.3, 1.0, n_tracks),\n",
    "    'valence': np.random.uniform(0.1, 1.0, n_tracks),  # 긍정성\n",
    "    'danceability': np.random.uniform(0.4, 1.0, n_tracks),\n",
    "    'release_year': np.random.choice([2020, 2021, 2022, 2023], n_tracks),\n",
    "    'streams': np.random.randint(10000, 5000000, n_tracks)\n",
    "}\n",
    "\n",
    "music_df = pd.DataFrame(comprehensive_data)\n",
    "\n",
    "# 데이터 전처리\n",
    "music_df['duration_min'] = music_df['duration_sec'] / 60\n",
    "music_df['popularity_score'] = pd.qcut(music_df['streams'], q=5, labels=['Very Low', 'Low', 'Medium', 'High', 'Very High'])\n",
    "\n",
    "print(\"음원 데이터셋 정보:\")\n",
    "print(music_df.info())\n",
    "print(\"\\n처음 5개 트랙:\")\n",
    "print(music_df.head())"
   ]
  },
  {
   "cell_type": "markdown",
   "metadata": {},
   "source": [
    "### 10.2 장르별 특성 분석"
   ]
  },
  {
   "cell_type": "code",
   "execution_count": null,
   "metadata": {},
   "outputs": [],
   "source": [
    "# 장르별 주요 특성 분석\n",
    "genre_analysis = music_df.groupby('genre').agg({\n",
    "    'bpm': ['mean', 'std'],\n",
    "    'energy': 'mean',\n",
    "    'valence': 'mean',\n",
    "    'danceability': 'mean',\n",
    "    'streams': 'sum',\n",
    "    'track_id': 'count'\n",
    "}).round(2)\n",
    "\n",
    "genre_analysis.columns = ['BPM_평균', 'BPM_표준편차', '에너지', '긍정성', '댄스성', '총_스트림', '트랙_수']\n",
    "print(\"장르별 특성 분석:\")\n",
    "print(genre_analysis)\n",
    "print()\n",
    "\n",
    "# 가장 인기있는 장르\n",
    "genre_popularity = music_df.groupby('genre')['streams'].sum().sort_values(ascending=False)\n",
    "print(\"장르별 총 스트리밍 수 (인기도):\")\n",
    "print(genre_popularity)\n",
    "print()\n",
    "\n",
    "# 상관관계 분석\n",
    "numeric_cols = ['bpm', 'energy', 'valence', 'danceability', 'streams']\n",
    "correlation_matrix = music_df[numeric_cols].corr()\n",
    "print(\"특성 간 상관관계:\")\n",
    "print(correlation_matrix.round(2))"
   ]
  },
  {
   "cell_type": "markdown",
   "metadata": {},
   "source": [
    "### 10.3 아티스트별 성과 분석"
   ]
  },
  {
   "cell_type": "code",
   "execution_count": null,
   "metadata": {},
   "outputs": [],
   "source": [
    "# 아티스트별 성과 지표\n",
    "artist_performance = music_df.groupby('artist').agg({\n",
    "    'track_id': 'count',\n",
    "    'streams': ['sum', 'mean'],\n",
    "    'energy': 'mean',\n",
    "    'genre': lambda x: x.mode()[0] if not x.mode().empty else 'Unknown'  # 주요 장르\n",
    "}).round(0)\n",
    "\n",
    "artist_performance.columns = ['트랙_수', '총_스트림', '평균_스트림', '평균_에너지', '주요_장르']\n",
    "artist_performance = artist_performance.sort_values('총_스트림', ascending=False)\n",
    "\n",
    "print(\"아티스트별 성과 분석:\")\n",
    "print(artist_performance)\n",
    "print()\n",
    "\n",
    "# 최고 성과 트랙\n",
    "top_tracks = music_df.nlargest(10, 'streams')[['title', 'artist', 'genre', 'bpm', 'streams']]\n",
    "print(\"Top 10 트랙 (스트리밍 기준):\")\n",
    "print(top_tracks)"
   ]
  },
  {
   "cell_type": "markdown",
   "metadata": {},
   "source": [
    "### 10.4 시간대별 트렌드 분석"
   ]
  },
  {
   "cell_type": "code",
   "execution_count": null,
   "metadata": {},
   "outputs": [],
   "source": [
    "# 연도별 트렌드\n",
    "yearly_trends = music_df.groupby('release_year').agg({\n",
    "    'bpm': 'mean',\n",
    "    'energy': 'mean',\n",
    "    'valence': 'mean',\n",
    "    'track_id': 'count'\n",
    "}).round(2)\n",
    "\n",
    "yearly_trends.columns = ['평균_BPM', '평균_에너지', '평균_긍정성', '릴리즈_수']\n",
    "print(\"연도별 음악 트렌드:\")\n",
    "print(yearly_trends)\n",
    "print()\n",
    "\n",
    "# 장르별 연도 분포\n",
    "genre_year_dist = pd.crosstab(music_df['genre'], music_df['release_year'])\n",
    "print(\"장르별 연도 분포:\")\n",
    "print(genre_year_dist)\n",
    "\n",
    "# 시각화를 위한 데이터 준비\n",
    "viz_data = music_df[['genre', 'energy', 'valence', 'danceability']].groupby('genre').mean()\n",
    "\n",
    "# 막대 그래프로 시각화\n",
    "fig, ax = plt.subplots(figsize=(10, 6))\n",
    "viz_data.plot(kind='bar', ax=ax)\n",
    "ax.set_title('장르별 평균 특성값', fontsize=14, fontweight='bold')\n",
    "ax.set_xlabel('장르')\n",
    "ax.set_ylabel('값')\n",
    "ax.legend(['에너지', '긍정성', '댄스성'])\n",
    "ax.grid(True, alpha=0.3)\n",
    "plt.xticks(rotation=45)\n",
    "plt.tight_layout()\n",
    "plt.show()"
   ]
  },
  {
   "cell_type": "markdown",
   "metadata": {},
   "source": [
    "## 11. 추천 실습\n",
    "\n",
    "### 실습 1: 자신만의 음원 데이터셋 구성\n",
    "\n",
    "실제 음원 파일이나 스트리밍 서비스의 API를 활용하여 데이터를 수집해보자.\n",
    "수집한 데이터를 DataFrame으로 구성하고 기본적인 정제 작업을 수행해보자.\n",
    "데이터의 품질을 평가하고 분석에 적합한 형태로 변환하는 연습을 해보자."
   ]
  },
  {
   "cell_type": "code",
   "execution_count": null,
   "metadata": {},
   "outputs": [],
   "source": [
    "# 실습 제안:\n",
    "# 1. Spotify API나 Last.fm API를 활용하여 실제 음원 데이터 수집\n",
    "# 2. 수집한 데이터를 DataFrame으로 변환\n",
    "# 3. 결측치 확인 및 처리\n",
    "# 4. 데이터 타입 변환 및 정규화\n",
    "# 5. 기본 통계량 계산 및 시각화"
   ]
  },
  {
   "cell_type": "markdown",
   "metadata": {},
   "source": [
    "### 실습 2: 음악 추천 시스템 프로토타입\n",
    "\n",
    "배운 내용을 활용하여 간단한 음악 추천 시스템을 만들어보자.\n",
    "사용자가 좋아하는 트랙의 특성을 분석하고 유사한 트랙을 찾아보자.\n",
    "GroupBy와 집계 함수를 활용하여 개인화된 추천을 생성해보자."
   ]
  },
  {
   "cell_type": "code",
   "execution_count": null,
   "metadata": {},
   "outputs": [],
   "source": [
    "# 실습 제안:\n",
    "# 1. 사용자가 좋아하는 트랙들의 평균 특성 계산\n",
    "# 2. 각 트랙과의 유사도 계산 (유클리드 거리 등)\n",
    "# 3. 가장 유사한 상위 N개 트랙 추천\n",
    "# 4. 장르, 아티스트 등을 고려한 다양성 확보\n",
    "# 5. 추천 결과를 DataFrame으로 정리하여 제시"
   ]
  },
  {
   "cell_type": "markdown",
   "metadata": {},
   "source": [
    "### 심화 학습을 위한 제안\n",
    "\n",
    "더 깊이 있는 학습을 원한다면 다음 주제들을 탐구해보자:\n",
    "\n",
    "1. **시계열 데이터 처리**: 날짜/시간 인덱스를 활용한 음원 스트리밍 패턴 분석\n",
    "2. **대용량 데이터 처리**: chunk 단위 처리, Dask 활용법\n",
    "3. **데이터베이스 연동**: SQL 쿼리와 Pandas의 결합\n",
    "4. **고급 집계 기법**: window 함수, rolling 통계\n",
    "5. **데이터 시각화 통합**: Seaborn, Plotly와의 연동\n",
    "\n",
    "이러한 기술들은 실제 음원 분석 프로젝트에서 매우 유용하게 활용될 수 있다."
   ]
  }
 ],
 "metadata": {
  "kernelspec": {
   "display_name": "Python 3 (ipykernel)",
   "language": "python",
   "name": "python3"
  },
  "language_info": {
   "codemirror_mode": {
    "name": "ipython",
    "version": 3
   },
   "file_extension": ".py",
   "mimetype": "text/x-python",
   "name": "python",
   "nbconvert_exporter": "python",
   "pygments_lexer": "ipython3",
   "version": "3.10.18"
  }
 },
 "nbformat": 4,
 "nbformat_minor": 4
}
