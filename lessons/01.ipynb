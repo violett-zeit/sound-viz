{
 "cells": [
  {
   "cell_type": "markdown",
   "metadata": {},
   "source": [
    "# 1주차: NumPy 기초와 배열 연산\n",
    "\n",
    "## 학습 목표\n",
    "- 데이터 분석의 기반이 되는 NumPy 이해하자\n",
    "- NumPy 배열 생성과 인덱싱 방법을 익히자\n",
    "- 배열 연산과 브로드캐스팅을 활용하자\n",
    "- 기본 통계 함수들을 음원 데이터에 적용해보자"
   ]
  },
  {
   "cell_type": "markdown",
   "metadata": {},
   "source": [
    "## 1. NumPy 라이브러리 소개\n",
    "\n",
    "NumPy(Numerical Python)는 파이썬에서 과학적 컴퓨팅을 위한 핵심 라이브러리다. 음원 분석 연구에서 디지털 신호 데이터를 효율적으로 처리하기 위해 필수적이다.\n",
    "\n",
    "N차원 배열 객체와 이를 다루는 도구들을 제공하여, 대용량 데이터를 빠르게 처리할 수 있게 해준다.\n",
    "C언어로 구현된 핵심 부분 덕분에 순수 파이썬보다 수십 배에서 수백 배 빠른 성능을 보여준다.\n",
    "음원 처리에서는 시간축 데이터(1차원), 스테레오 신호(2차원), 스펙트로그램*(2차원) 등을 효율적으로 다룰 수 있다.\n",
    "\n",
    "*스펙토그램: 소리의 스펙트럼을 시각화하여 그래프로 표현하는 기법"
   ]
  },
  {
   "cell_type": "code",
   "execution_count": null,
   "metadata": {},
   "outputs": [],
   "source": [
    "import numpy as np\n",
    "import matplotlib.pyplot as plt\n",
    "import warnings\n",
    "warnings.filterwarnings('ignore', category=DeprecationWarning, module='matplotlib')\n",
    "\n",
    "# 기본 설정\n",
    "plt.rcParams['axes.unicode_minus'] = False\n",
    "plt.rcParams['figure.figsize'] = (10, 6)\n",
    "\n",
    "print(f\"NumPy 버전: {np.__version__}\")\n",
    "print(\"NumPy 라이브러리 로딩 완료!\")"
   ]
  },
  {
   "cell_type": "markdown",
   "metadata": {},
   "source": [
    "## 2. NumPy 배열 생성\n",
    "\n",
    "### 2.1 기본 배열 생성 방법들\n",
    "\n",
    "NumPy 배열(ndarray)는 동일한 데이터 타입의 원소들을 담는 다차원 컨테이너다.\n",
    "파이썬 리스트와 달리 메모리 효율성이 높고 벡터화된 연산을 지원한다.\n",
    "음원 데이터는 주로 1차원(모노) 또는 2차원(스테레오, 다채널) 배열로 표현된다."
   ]
  },
  {
   "cell_type": "code",
   "execution_count": null,
   "metadata": {},
   "outputs": [],
   "source": [
    "# 1차원 배열 생성\n",
    "arr_1d = np.array([1, 2, 3, 4, 5])\n",
    "print(\"1차원 배열:\", arr_1d)\n",
    "print(\"배열 형태:\", arr_1d.shape)\n",
    "print(\"배열 차원:\", arr_1d.ndim)\n",
    "print(\"데이터 타입:\", arr_1d.dtype)\n",
    "print()\n",
    "\n",
    "# 2차원 배열 생성\n",
    "arr_2d = np.array([[1, 2, 3], [4, 5, 6]])\n",
    "print(\"2차원 배열:\")\n",
    "print(arr_2d)\n",
    "print(\"배열 형태:\", arr_2d.shape)\n",
    "print(\"배열 차원:\", arr_2d.ndim)\n",
    "print(\"데이터 타입:\", arr_2d.dtype)\n"
   ]
  },
  {
   "cell_type": "markdown",
   "metadata": {},
   "source": [
    "### 2.2 배열 생성 함수들\n",
    "\n",
    "NumPy는 다양한 패턴의 배열을 쉽게 생성할 수 있는 함수들을 제공한다.\n",
    "이러한 함수들은 신호 처리에서 필터 계수, 윈도우 함수, 시간축 등을 만들 때 매우 유용하다.\n",
    "특히 `linspace`와 `arange`는 시간축 생성과 주파수 분석에서 핵심적으로 사용된다."
   ]
  },
  {
   "cell_type": "code",
   "execution_count": null,
   "metadata": {},
   "outputs": [],
   "source": [
    "# 0으로 채운 배열\n",
    "zeros_arr = np.zeros(5)\n",
    "print(\"0으로 채운 배열:\", zeros_arr)\n",
    "\n",
    "# 1로 채운 배열\n",
    "ones_arr = np.ones((2, 3))\n",
    "print(\"1로 채운 2x3 배열:\")\n",
    "print(ones_arr)\n",
    "\n",
    "# 특정 값으로 채운 배열\n",
    "full_arr = np.full(4, 7.5)\n",
    "print(\"7.5로 채운 배열:\", full_arr)\n",
    "\n",
    "# 등차수열 배열\n",
    "range_arr = np.arange(0, 10, 2)\n",
    "print(\"등차수열 배열 (0~10, 간격 2):\", range_arr)\n",
    "\n",
    "# 선형 공간 배열\n",
    "linspace_arr = np.linspace(0, 1, 5)\n",
    "print(\"선형 공간 배열 (0~1, 5개 점):\", linspace_arr)"
   ]
  },
  {
   "cell_type": "markdown",
   "metadata": {},
   "source": [
    "## 3. 배열 인덱싱과 슬라이싱\n",
    "\n",
    "### 3.1 기본 인덱싱\n",
    "\n",
    "배열의 특정 원소나 부분을 선택하는 것은 신호 처리에서 매우 중요한 기능이다.\n",
    "음원 데이터에서 특정 시간 구간을 추출하거나, 특정 조건을 만족하는 샘플들을 찾을 때 사용한다.\n",
    "파이썬의 슬라이싱 문법을 그대로 사용하지만, 훨씬 빠른 성능을 제공한다."
   ]
  },
  {
   "cell_type": "code",
   "execution_count": null,
   "metadata": {},
   "outputs": [],
   "source": [
    "# 음원 데이터를 시뮬레이션한 배열 생성\n",
    "audio_data = np.array([0.1, 0.3, -0.2, 0.8, -0.5, 0.2, 0.7, -0.1])\n",
    "print(\"음원 데이터 샘플:\", audio_data)\n",
    "print()\n",
    "\n",
    "# 인덱싱\n",
    "print(\"첫 번째 샘플:\", audio_data[0])\n",
    "print(\"마지막 샘플:\", audio_data[-1])\n",
    "print(\"세 번째 샘플:\", audio_data[2])\n",
    "print()\n",
    "\n",
    "# 슬라이싱\n",
    "print(\"처음 3개 샘플:\", audio_data[:3])\n",
    "print(\"마지막 3개 샘플:\", audio_data[-3:])\n",
    "print(\"2번째부터 5번째까지:\", audio_data[2:6])\n",
    "print(\"짝수 인덱스 샘플들:\", audio_data[::2])"
   ]
  },
  {
   "cell_type": "markdown",
   "metadata": {},
   "source": [
    "### 3.2 2차원 배열 인덱싱\n",
    "\n",
    "다채널 음원 데이터는 2차원 배열로 표현되며, 각 행이나 열이 특별한 의미를 가진다.\n",
    "스테레오 음원의 경우 보통 첫 번째 차원이 채널, 두 번째 차원이 시간을 나타낸다.\n",
    "2차원 인덱싱을 통해 특정 채널의 신호나 특정 시점의 모든 채널 값을 쉽게 추출할 수 있다."
   ]
  },
  {
   "cell_type": "code",
   "execution_count": null,
   "metadata": {},
   "outputs": [],
   "source": [
    "# 스테레오 음원 데이터 시뮬레이션 (2채널)\n",
    "stereo_data = np.array([\n",
    "    [0.1, 0.3, -0.2, 0.8],  # 왼쪽 채널\n",
    "    [-0.1, 0.2, 0.5, -0.3]  # 오른쪽 채널\n",
    "])\n",
    "\n",
    "print(\"스테레오 음원 데이터:\")\n",
    "print(stereo_data)\n",
    "print(\"배열 형태:\", stereo_data.shape)\n",
    "print()\n",
    "\n",
    "# 채널별 접근\n",
    "print(\"왼쪽 채널 (첫 번째 행):\", stereo_data[0])\n",
    "print(\"오른쪽 채널 (두 번째 행):\", stereo_data[1])\n",
    "print()\n",
    "\n",
    "# 특정 시점의 모든 채널 값\n",
    "print(\"첫 번째 시점의 모든 채널:\", stereo_data[:, 0])\n",
    "print(\"세 번째 시점의 모든 채널:\", stereo_data[:, 2])\n",
    "print()\n",
    "\n",
    "# 특정 요소 접근\n",
    "print(\"왼쪽 채널의 두 번째 샘플:\", stereo_data[0, 1])\n",
    "print(\"오른쪽 채널의 마지막 샘플:\", stereo_data[1, -1])"
   ]
  },
  {
   "cell_type": "markdown",
   "metadata": {},
   "source": [
    "## 4. 배열 연산\n",
    "\n",
    "### 4.1 기본 산술 연산\n",
    "\n",
    "NumPy의 벡터화된 연산은 신호 처리의 핵심이다.\n",
    "전체 배열에 대해 한 번에 연산을 수행할 수 있어, 반복문을 사용하는 것보다 훨씬 빠르다.\n",
    "음원 처리에서 증폭, 감쇠, 믹싱, 필터링 등의 기본 연산들을 효율적으로 수행할 수 있다."
   ]
  },
  {
   "cell_type": "code",
   "execution_count": null,
   "metadata": {},
   "outputs": [],
   "source": [
    "# 음원 신호 처리를 위한 배열 연산\n",
    "signal = np.array([1.0, 2.0, 3.0, 4.0, 5.0])\n",
    "print(\"원본 신호:\", signal)\n",
    "\n",
    "# 스칼라 연산\n",
    "amplified = signal * 2  # 증폭\n",
    "attenuated = signal * 0.5  # 감쇠\n",
    "offset = signal + 1  # DC 오프셋 추가\n",
    "\n",
    "print(\"2배 증폭:\", amplified)\n",
    "print(\"0.5배 감쇠:\", attenuated)\n",
    "print(\"DC 오프셋 +1:\", offset)\n",
    "print()\n",
    "\n",
    "# 배열 간 연산\n",
    "signal1 = np.array([1, 2, 3, 4, 5])\n",
    "signal2 = np.array([2, 1, 4, 2, 3])\n",
    "\n",
    "sum_signals = signal1 + signal2  # 신호 합성\n",
    "diff_signals = signal1 - signal2  # 신호 차이\n",
    "mult_signals = signal1 * signal2  # 원소별 곱셈\n",
    "\n",
    "print(\"신호 1:\", signal1)\n",
    "print(\"신호 2:\", signal2)\n",
    "print(\"신호 합성:\", sum_signals)\n",
    "print(\"신호 차이:\", diff_signals)\n",
    "print(\"원소별 곱셈:\", mult_signals)"
   ]
  },
  {
   "cell_type": "markdown",
   "metadata": {},
   "source": [
    "### 4.2 브로드캐스팅\n",
    "\n",
    "브로드캐스팅은 서로 다른 크기의 배열 간에도 연산을 가능하게 해주는 강력한 기능이다.\n",
    "다채널 음원에서 각 채널마다 다른 처리를 적용하거나, 시간에 따른 변화를 적용할 때 매우 유용하다.\n",
    "메모리 효율성과 코드 간결성을 동시에 제공하는 NumPy의 핵심 특징 중 하나다."
   ]
  },
  {
   "cell_type": "code",
   "execution_count": null,
   "metadata": {},
   "outputs": [],
   "source": [
    "# 스테레오 신호에 다른 처리 적용\n",
    "stereo_signal = np.array([\n",
    "    [1.0, 2.0, 3.0, 4.0],  # 왼쪽 채널\n",
    "    [2.0, 1.0, 4.0, 2.0]   # 오른쪽 채널\n",
    "])\n",
    "\n",
    "print(\"스테레오 신호:\")\n",
    "print(stereo_signal)\n",
    "print(\"형태:\", stereo_signal.shape)\n",
    "print()\n",
    "\n",
    "# 각 채널에 다른 게인 적용\n",
    "gains = np.array([0.8, 1.2])  # 왼쪽: 0.8, 오른쪽: 1.2\n",
    "gains = gains.reshape(2, 1)  # (2, 1) 형태로 변경\n",
    "\n",
    "processed_signal = stereo_signal * gains\n",
    "\n",
    "print(\"채널별 게인:\", gains.flatten())\n",
    "print(\"처리된 스테레오 신호:\")\n",
    "print(processed_signal)\n",
    "print()\n",
    "\n",
    "# 시간에 따른 페이드 효과\n",
    "fade_curve = np.linspace(1.0, 0.0, 4)  # 1에서 0으로 페이드\n",
    "faded_signal = stereo_signal * fade_curve\n",
    "\n",
    "print(\"페이드 커브:\", fade_curve)\n",
    "print(\"페이드 적용된 신호:\")\n",
    "print(faded_signal)"
   ]
  },
  {
   "cell_type": "markdown",
   "metadata": {},
   "source": [
    "## 5. 기본 통계 함수\n",
    "\n",
    "### 5.1 기본 통계량 계산\n",
    "\n",
    "음원 신호의 특성을 파악하는 첫 번째 단계는 기본적인 통계량을 계산하는 것이다.\n",
    "평균값은 DC 성분을, 표준편차는 신호의 동적 범위를, RMS는 신호의 에너지를 나타낸다.\n",
    "이러한 통계량들은 신호의 품질 평가, 정규화, 그리고 후속 처리의 기준점을 제공한다."
   ]
  },
  {
   "cell_type": "code",
   "execution_count": null,
   "metadata": {},
   "outputs": [],
   "source": [
    "# 음원 신호의 통계적 특성 분석\n",
    "audio_signal = np.array([0.1, -0.3, 0.8, -0.2, 0.5, -0.7, 0.3, -0.1, 0.6, -0.4])\n",
    "\n",
    "print(\"음원 신호:\", audio_signal)\n",
    "print(f\"신호 길이: {len(audio_signal)} 샘플\")\n",
    "print()\n",
    "\n",
    "# 기본 통계량\n",
    "mean_val = np.mean(audio_signal)\n",
    "std_val = np.std(audio_signal)\n",
    "min_val = np.min(audio_signal)\n",
    "max_val = np.max(audio_signal)\n",
    "peak_to_peak = max_val - min_val\n",
    "\n",
    "print(f\"평균 (DC 성분): {mean_val:.3f}\")\n",
    "print(f\"표준편차 (RMS 근사): {std_val:.3f}\")\n",
    "print(f\"최솟값: {min_val:.3f}\")\n",
    "print(f\"최댓값: {max_val:.3f}\")\n",
    "print(f\"Peak-to-Peak: {peak_to_peak:.3f}\")\n",
    "print()\n",
    "\n",
    "# 추가 통계량\n",
    "median_val = np.median(audio_signal)\n",
    "var_val = np.var(audio_signal)\n",
    "rms_val = np.sqrt(np.mean(audio_signal**2))  # RMS 값\n",
    "\n",
    "print(f\"중앙값: {median_val:.3f}\")\n",
    "print(f\"분산: {var_val:.3f}\")\n",
    "print(f\"RMS 값: {rms_val:.3f}\")"
   ]
  },
  {
   "cell_type": "markdown",
   "metadata": {},
   "source": [
    "### 5.2 축별 통계 계산\n",
    "\n",
    "다차원 데이터에서는 특정 축을 따라 통계량을 계산할 수 있다.\n",
    "다채널 음원에서는 채널별 특성 비교나 시간별 변화 분석이 중요하다.\n",
    "`axis` 매개변수를 활용하여 원하는 방향으로 통계량을 계산할 수 있으며, 이는 오디오 분석에서 매우 유용한 기능이다."
   ]
  },
  {
   "cell_type": "code",
   "execution_count": null,
   "metadata": {},
   "outputs": [],
   "source": [
    "# 다채널 음원 데이터 분석\n",
    "multichannel_data = np.random.randn(3, 100)  # 3채널, 100 샘플\n",
    "print(multichannel_data)\n",
    "\n",
    "multichannel_data[0] *= 0.5  # 첫 번째 채널은 작은 진폭\n",
    "multichannel_data[1] *= 1.0  # 두 번째 채널은 중간 진폭\n",
    "multichannel_data[2] *= 1.5  # 세 번째 채널은 큰 진폭\n",
    "\n",
    "print(\"다채널 데이터 형태:\", multichannel_data.shape)\n",
    "print()\n",
    "\n",
    "# 채널별 통계 (axis=1: 시간 축을 따라 계산)\n",
    "channel_means = np.mean(multichannel_data, axis=1)\n",
    "channel_stds = np.std(multichannel_data, axis=1)\n",
    "channel_rms = np.sqrt(np.mean(multichannel_data**2, axis=1))\n",
    "\n",
    "print(\"채널별 평균:\")\n",
    "for i, mean in enumerate(channel_means):\n",
    "    print(f\"  채널 {i+1}: {mean:.3f}\")\n",
    "\n",
    "print(\"\\n채널별 표준편차:\")\n",
    "for i, std in enumerate(channel_stds):\n",
    "    print(f\"  채널 {i+1}: {std:.3f}\")\n",
    "\n",
    "print(\"\\n채널별 RMS:\")\n",
    "for i, rms in enumerate(channel_rms):\n",
    "    print(f\"  채널 {i+1}: {rms:.3f}\")\n",
    "\n",
    "# 시간별 통계 (axis=0: 채널 축을 따라 계산)\n",
    "time_means = np.mean(multichannel_data, axis=0)\n",
    "print(f\"\\n시간별 평균 (처음 10개 샘플): {time_means[:10]}\")"
   ]
  },
  {
   "cell_type": "markdown",
   "metadata": {},
   "source": [
    "## 6. 음원 데이터 시뮬레이션과 분석\n",
    "\n",
    "### 6.1 사인파 생성과 분석\n",
    "\n",
    "실제 음원 데이터를 다루기 전에 수학적으로 정의된 신호로 연습하는 것이 중요하다.\n",
    "사인파는 가장 기본적인 주기 신호로, 푸리에 분석의 기본 구성 요소다.\n",
    "사인파의 통계적 특성을 이해하면 복잡한 음원 신호를 분석하는 기초를 다질 수 있다."
   ]
  },
  {
   "cell_type": "code",
   "execution_count": null,
   "metadata": {},
   "outputs": [],
   "source": [
    "# 샘플링 파라미터\n",
    "sample_rate = 1000  # 1kHz\n",
    "duration = 2.0  # 2초\n",
    "frequency = 50  # 50Hz 사인파\n",
    "\n",
    "# 시간 배열 생성\n",
    "t = np.linspace(0, duration, int(sample_rate * duration))\n",
    "print(f\"시간 배열 길이: {len(t)} 샘플\")\n",
    "print(f\"샘플링 간격: {t[1] - t[0]:.4f} 초\")\n",
    "print()\n",
    "\n",
    "# 사인파 생성\n",
    "sine_wave = np.sin(2 * np.pi * frequency * t)\n",
    "\n",
    "# 통계 분석\n",
    "print(\"사인파 통계 분석:\")\n",
    "print(f\"평균: {np.mean(sine_wave):.6f}\")\n",
    "print(f\"표준편차: {np.std(sine_wave):.3f}\")\n",
    "print(f\"RMS: {np.sqrt(np.mean(sine_wave**2)):.3f}\")\n",
    "print(f\"최댓값: {np.max(sine_wave):.3f}\")\n",
    "print(f\"최솟값: {np.min(sine_wave):.3f}\")\n",
    "\n",
    "# 시각화\n",
    "plt.figure(figsize=(12, 4))\n",
    "plt.plot(t[:200], sine_wave[:200])  # 처음 200개 샘플만 표시\n",
    "plt.title(f'{frequency}Hz 사인파 (처음 0.2초)')\n",
    "plt.xlabel('시간 (초)')\n",
    "plt.ylabel('진폭')\n",
    "plt.grid(True, alpha=0.3)\n",
    "plt.show()"
   ]
  },
  {
   "cell_type": "markdown",
   "metadata": {},
   "source": [
    "### 6.2 노이즈가 포함된 신호 분석\n",
    "\n",
    "실제 음원에는 항상 노이즈가 포함되어 있으며, 이를 정량적으로 분석하는 것이 중요하다.\n",
    "신호 대 잡음 비율(SNR)은 신호 품질을 평가하는 핵심 지표다.\n",
    "노이즈가 신호의 통계적 특성에 미치는 영향을 이해하면, 실제 음원 처리에서 더 나은 판단을 할 수 있다."
   ]
  },
  {
   "cell_type": "code",
   "execution_count": null,
   "metadata": {},
   "outputs": [],
   "source": [
    "# 노이즈 추가\n",
    "noise_level = 0.3\n",
    "noise = np.random.normal(0, noise_level, len(sine_wave))\n",
    "noisy_signal = sine_wave + noise\n",
    "\n",
    "# 신호별 통계 비교\n",
    "signals = {\n",
    "    \"원본 사인파\": sine_wave,\n",
    "    \"노이즈\": noise,\n",
    "    \"노이즈 포함 신호\": noisy_signal\n",
    "}\n",
    "\n",
    "print(\"신호별 통계 비교:\")\n",
    "print(\"-\" * 60)\n",
    "print(f\"{'신호 종류':<15} {'평균':<10} {'표준편차':<10} {'RMS':<10} {'SNR(dB)':<10}\")\n",
    "print(\"-\" * 60)\n",
    "\n",
    "for name, signal in signals.items():\n",
    "    mean_val = np.mean(signal)\n",
    "    std_val = np.std(signal)\n",
    "    rms_val = np.sqrt(np.mean(signal**2))\n",
    "    \n",
    "    if name == \"노이즈 포함 신호\":\n",
    "        # SNR 계산 (Signal-to-Noise Ratio)\n",
    "        signal_power = np.mean(sine_wave**2)\n",
    "        noise_power = np.mean(noise**2)\n",
    "        snr_db = 10 * np.log10(signal_power / noise_power)\n",
    "        snr_str = f\"{snr_db:.1f}\"\n",
    "    else:\n",
    "        snr_str = \"-\"\n",
    "    \n",
    "    print(f\"{name:<15} {mean_val:<10.3f} {std_val:<10.3f} {rms_val:<10.3f} {snr_str:<10}\")\n",
    "\n",
    "# 시각화\n",
    "fig, axes = plt.subplots(3, 1, figsize=(12, 8))\n",
    "time_slice = slice(0, 500)  # 처음 0.5초\n",
    "\n",
    "axes[0].plot(t[time_slice], sine_wave[time_slice], 'b-', alpha=0.8)\n",
    "axes[0].set_title('원본 사인파')\n",
    "axes[0].set_ylabel('진폭')\n",
    "axes[0].grid(True, alpha=0.3)\n",
    "\n",
    "axes[1].plot(t[time_slice], noise[time_slice], 'r-', alpha=0.6)\n",
    "axes[1].set_title('노이즈')\n",
    "axes[1].set_ylabel('진폭')\n",
    "axes[1].grid(True, alpha=0.3)\n",
    "\n",
    "axes[2].plot(t[time_slice], noisy_signal[time_slice], 'g-', alpha=0.8)\n",
    "axes[2].set_title('노이즈 포함 신호')\n",
    "axes[2].set_xlabel('시간 (초)')\n",
    "axes[2].set_ylabel('진폭')\n",
    "axes[2].grid(True, alpha=0.3)\n",
    "\n",
    "plt.tight_layout()\n",
    "plt.show()"
   ]
  },
  {
   "cell_type": "markdown",
   "metadata": {},
   "source": [
    "## 7. 추천 실습\n",
    "\n",
    "### 실습 1: 배열 생성과 조작 연습\n",
    "\n",
    "오늘 배운 내용을 스스로 복습해보는 시간을 가져보는 것을 추천한다.\n",
    "다양한 형태의 배열을 만들어보고, 연산을 적용해보면서 NumPy의 동작 원리를 체득할 수 있다.\n",
    "특히 브로드캐스팅 개념은 여러 번 실습해보면서 익히는 것이 좋다."
   ]
  },
  {
   "cell_type": "code",
   "execution_count": null,
   "metadata": {},
   "outputs": [],
   "source": [
    "# 실습 제안:\n",
    "# 1. 서로 다른 크기의 배열을 생성해보고 shape 확인하기\n",
    "# 2. 3차원 배열을 만들어보고 각 차원의 의미 이해하기\n",
    "# 3. 랜덤 배열을 생성하고 통계량 계산해보기\n",
    "# 4. 두 배열의 브로드캐스팅이 가능한 경우와 불가능한 경우 실험해보기"
   ]
  },
  {
   "cell_type": "markdown",
   "metadata": {},
   "source": [
    "### 실습 2: 데이터 분석 함수 작성\n",
    "\n",
    "자신만의 데이터 분석 함수를 만들어보는 것도 좋은 학습 방법이다.\n",
    "평균, 분산, 최댓값 등을 계산하는 함수를 직접 구현해보면 NumPy의 내장 함수들이 얼마나 효율적인지 체감할 수 있다.\n",
    "또한 데이터 정규화나 스케일링 함수를 만들어보면서 데이터 전처리의 중요성을 이해할 수 있다."
   ]
  },
  {
   "cell_type": "code",
   "execution_count": null,
   "metadata": {},
   "outputs": [],
   "source": [
    "# 실습 제안:\n",
    "# 1. 데이터의 기본 통계량(평균, 분산, 최댓값, 최솟값)을 계산하는 함수 만들기\n",
    "# 2. 데이터를 0과 1 사이로 정규화하는 함수 구현하기\n",
    "# 3. 이동 평균(moving average)을 계산하는 함수 작성하기\n",
    "# 4. 두 배열 간의 상관계수를 계산하는 함수 만들어보기"
   ]
  },
  {
   "cell_type": "markdown",
   "metadata": {},
   "source": [
    "### 심화 학습을 위한 제안\n",
    "\n",
    "관심이 있다면 다음과 같은 주제들도 탐구해보길 권한다:\n",
    "\n",
    "1. **배열 형태 변환**: `reshape()`, `transpose()`, `flatten()` 등의 메서드 활용법\n",
    "2. **고급 인덱싱**: 불리언 인덱싱, 팬시 인덱싱을 통한 효율적인 데이터 선택\n",
    "3. **선형대수 연산**: `np.dot()`, `np.linalg` 모듈을 활용한 행렬 연산\n",
    "4. **파일 입출력**: `np.save()`, `np.load()`를 통한 배열 데이터 저장과 불러오기\n",
    "\n",
    "이러한 개념들은 실제 데이터 분석 프로젝트에서 매우 유용하게 활용될 수 있다."
   ]
  }
 ],
 "metadata": {
  "kernelspec": {
   "display_name": "Python 3 (ipykernel)",
   "language": "python",
   "name": "python3"
  },
  "language_info": {
   "codemirror_mode": {
    "name": "ipython",
    "version": 3
   },
   "file_extension": ".py",
   "mimetype": "text/x-python",
   "name": "python",
   "nbconvert_exporter": "python",
   "pygments_lexer": "ipython3",
   "version": "3.10.18"
  }
 },
 "nbformat": 4,
 "nbformat_minor": 4
}
