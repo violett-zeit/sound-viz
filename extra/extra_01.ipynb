{
 "cells": [
  {
   "cell_type": "markdown",
   "metadata": {},
   "source": "# 특강 01: Spotify API 활용 - Client Credentials Flow\n\n## 학습 목표\n- Spotify Client Credentials Flow를 구현해보자\n- 아티스트/앨범/트랙 검색 기능을 구현해보자\n- 음악 데이터 수집 방법을 익혀보자"
  },
  {
   "cell_type": "code",
   "execution_count": null,
   "metadata": {},
   "outputs": [],
   "source": "# 라이브러리 import\nimport requests\nimport base64\nimport time\nimport os\nfrom typing import Dict, List, Optional"
  },
  {
   "cell_type": "markdown",
   "metadata": {},
   "source": [
    "## 1. Spotify 앱 등록\n",
    "\n",
    "1. [Spotify for Developers](https://developer.spotify.com/) 접속\n",
    "2. \"Create App\" 클릭  \n",
    "3. **Redirect URI**: `http://localhost:8888/callback` (필수 입력, 실제로는 사용하지 않음)\n",
    "4. Client ID와 Client Secret 획득\n",
    "\n",
    "> **참고**: Client Credentials Flow에서는 Redirect URI를 실제로 사용하지 않지만, Spotify 앱 생성 시 필수 항목입니다."
   ]
  },
  {
   "cell_type": "markdown",
   "metadata": {},
   "source": [
    "## 2. API 자격 증명 설정 (.env 파일)\n",
    "\n",
    ".env 파일을 사용하여 안전하게 자격 증명을 관리합니다."
   ]
  },
  {
   "cell_type": "code",
   "execution_count": 10,
   "metadata": {},
   "outputs": [
    {
     "name": "stdout",
     "output_type": "stream",
     "text": [
      "✅ .env 파일에서 자격 증명을 로드했습니다.\n"
     ]
    }
   ],
   "source": [
    "def load_spotify_credentials():\n",
    "    \"\"\".env 파일에서 Spotify API 자격 증명을 로드합니다.\"\"\"\n",
    "    env_file = '.env'\n",
    "    \n",
    "    # .env 파일이 없으면 템플릿 생성\n",
    "    if not os.path.exists(env_file):\n",
    "        template_content = \"\"\"# Spotify API 자격 증명\n",
    "SPOTIFY_CLIENT_ID=your_client_id_here\n",
    "SPOTIFY_CLIENT_SECRET=your_client_secret_here\n",
    "\"\"\"\n",
    "        with open(env_file, 'w') as f:\n",
    "            f.write(template_content)\n",
    "        \n",
    "        print(\"📝 .env 파일이 생성되었습니다!\")\n",
    "        print(\"   실제 Client ID와 Secret을 입력하고 다시 실행하세요\")\n",
    "        return None, None\n",
    "    \n",
    "    # .env 파일에서 읽기\n",
    "    client_id = None\n",
    "    client_secret = None\n",
    "    \n",
    "    with open(env_file, 'r') as f:\n",
    "        for line in f:\n",
    "            line = line.strip()\n",
    "            if line and not line.startswith('#') and '=' in line:\n",
    "                key, value = line.split('=', 1)\n",
    "                if key == 'SPOTIFY_CLIENT_ID':\n",
    "                    client_id = value\n",
    "                elif key == 'SPOTIFY_CLIENT_SECRET':\n",
    "                    client_secret = value\n",
    "    \n",
    "    if client_id == 'your_client_id_here' or client_secret == 'your_client_secret_here':\n",
    "        print(\"⚠️ .env 파일에 실제 값을 입력해주세요!\")\n",
    "        return None, None\n",
    "    \n",
    "    if client_id and client_secret:\n",
    "        print(\"✅ .env 파일에서 자격 증명을 로드했습니다.\")\n",
    "        return client_id, client_secret\n",
    "    else:\n",
    "        print(\"❌ .env 파일에 자격 증명이 없습니다.\")\n",
    "        return None, None\n",
    "\n",
    "# 자격 증명 로드\n",
    "CLIENT_ID, CLIENT_SECRET = load_spotify_credentials()"
   ]
  },
  {
   "cell_type": "markdown",
   "metadata": {},
   "source": [
    "## 3. Client Credentials Flow 토큰 발급\n",
    "\n",
    "OAuth 서버 없이 간단하게 토큰을 발급받습니다."
   ]
  },
  {
   "cell_type": "code",
   "execution_count": null,
   "metadata": {},
   "outputs": [],
   "source": "class SpotifyClientCredentials:\n    def __init__(self, client_id: str, client_secret: str):\n        self.client_id = client_id\n        self.client_secret = client_secret\n        self.access_token = None\n        self.token_expires_at = 0\n        \n    def get_access_token(self) -> Optional[str]:\n        \"\"\"Client Credentials Flow로 액세스 토큰 발급\"\"\"\n        # 토큰이 유효하면 재사용\n        if self.access_token and time.time() < self.token_expires_at:\n            return self.access_token\n            \n        # 새 토큰 발급\n        credentials = f\"{self.client_id}:{self.client_secret}\"\n        encoded_credentials = base64.b64encode(credentials.encode()).decode()\n        \n        headers = {\n            'Authorization': f'Basic {encoded_credentials}',\n            'Content-Type': 'application/x-www-form-urlencoded'\n        }\n        \n        data = {'grant_type': 'client_credentials'}\n        \n        response = requests.post('https://accounts.spotify.com/api/token', \n                               headers=headers, data=data)\n        \n        if response.status_code == 200:\n            token_data = response.json()\n            self.access_token = token_data['access_token']\n            expires_in = token_data.get('expires_in', 3600)\n            self.token_expires_at = time.time() + expires_in - 60  # 1분 여유\n            \n            print(\"✅ 액세스 토큰을 성공적으로 발급받았습니다!\")\n            return self.access_token\n        else:\n            print(f\"❌ 토큰 발급 실패: {response.status_code}\")\n            return None\n\nprint(\"✅ SpotifyClientCredentials 클래스 정의 완료!\")"
  },
  {
   "cell_type": "markdown",
   "metadata": {},
   "source": [
    "## 4. Spotify API 클라이언트 구현\n",
    "\n",
    "Client Credentials로 발급받은 토큰으로 Spotify API를 호출하는 클래스입니다."
   ]
  },
  {
   "cell_type": "code",
   "execution_count": null,
   "metadata": {},
   "outputs": [],
   "source": "class SpotifyAPI:\n    def __init__(self, client_credentials: SpotifyClientCredentials):\n        self.auth = client_credentials\n        self.base_url = \"https://api.spotify.com/v1\"\n    \n    def _get_headers(self) -> Optional[Dict]:\n        \"\"\"API 요청 헤더 생성\"\"\"\n        token = self.auth.get_access_token()\n        if not token:\n            return None\n        return {\"Authorization\": f\"Bearer {token}\"}\n    \n    def search(self, query: str, search_type: str = \"track\", limit: int = 20) -> Optional[Dict]:\n        \"\"\"음악 검색 (track, artist, album)\"\"\"\n        headers = self._get_headers()\n        if not headers:\n            return None\n            \n        params = {\n            \"q\": query,\n            \"type\": search_type,\n            \"limit\": limit\n        }\n        \n        response = requests.get(f\"{self.base_url}/search\", \n                               headers=headers, params=params)\n        return response.json() if response.status_code == 200 else None\n    \n    def get_track(self, track_id: str) -> Optional[Dict]:\n        \"\"\"특정 트랙 정보 가져오기\"\"\"\n        headers = self._get_headers()\n        if not headers:\n            return None\n            \n        response = requests.get(f\"{self.base_url}/tracks/{track_id}\", \n                               headers=headers)\n        return response.json() if response.status_code == 200 else None\n    \n    def get_artist(self, artist_id: str) -> Optional[Dict]:\n        \"\"\"특정 아티스트 정보 가져오기\"\"\"\n        headers = self._get_headers()\n        if not headers:\n            return None\n            \n        response = requests.get(f\"{self.base_url}/artists/{artist_id}\", \n                               headers=headers)\n        return response.json() if response.status_code == 200 else None\n    \n    def get_artist_top_tracks(self, artist_id: str, market: str = \"US\") -> Optional[Dict]:\n        \"\"\"아티스트의 인기곡 가져오기\"\"\"\n        headers = self._get_headers()\n        if not headers:\n            return None\n            \n        params = {\"market\": market}\n        response = requests.get(f\"{self.base_url}/artists/{artist_id}/top-tracks\", \n                               headers=headers, params=params)\n        return response.json() if response.status_code == 200 else None\n\nprint(\"✅ SpotifyAPI 클래스 정의 완료!\")"
  },
  {
   "cell_type": "markdown",
   "metadata": {},
   "source": [
    "## 5. 실제 사용 예시\n",
    "\n",
    "### 5.1 API 클라이언트 생성"
   ]
  },
  {
   "cell_type": "code",
   "execution_count": 13,
   "metadata": {},
   "outputs": [
    {
     "name": "stdout",
     "output_type": "stream",
     "text": [
      "✅ Spotify API 클라이언트가 생성되었습니다.\n",
      "   다음 셀에서 API를 사용해보세요.\n"
     ]
    }
   ],
   "source": [
    "# 자격 증명이 로드되었다면 API 클라이언트 생성\n",
    "if CLIENT_ID and CLIENT_SECRET:\n",
    "    # 인증 객체 생성\n",
    "    auth = SpotifyClientCredentials(CLIENT_ID, CLIENT_SECRET)\n",
    "    \n",
    "    # API 클라이언트 생성\n",
    "    spotify = SpotifyAPI(auth)\n",
    "    \n",
    "    print(\"✅ Spotify API 클라이언트가 생성되었습니다.\")\n",
    "    print(\"   다음 셀에서 API를 사용해보세요.\")\n",
    "else:\n",
    "    print(\"❌ 먼저 .env 파일에 자격 증명을 입력하세요!\")"
   ]
  },
  {
   "cell_type": "markdown",
   "metadata": {},
   "source": [
    "### 5.2 음악 검색하기"
   ]
  },
  {
   "cell_type": "code",
   "execution_count": 15,
   "metadata": {},
   "outputs": [
    {
     "name": "stdout",
     "output_type": "stream",
     "text": [
      "=== '뉴진스 Get Up' 검색 결과 ===\n",
      "1. Get Up - NewJeans\n",
      "   앨범: NewJeans 2nd EP 'Get Up'\n",
      "   발매일: 2023-07-21\n",
      "   인기도: 68/100\n",
      "   ID: 1wUnuiXMMvhudmzvcCtlZP\n",
      "\n",
      "2. NEW DROP - Don Toliver\n",
      "   앨범: Trending Edit Audios\n",
      "   발매일: 2025-08-19\n",
      "   인기도: 0/100\n",
      "   ID: 0dNLRYTbYGPMwNIZCby7cV\n",
      "\n",
      "3. ETA - NewJeans\n",
      "   앨범: NewJeans 2nd EP 'Get Up'\n",
      "   발매일: 2023-07-21\n",
      "   인기도: 77/100\n",
      "   ID: 56v8WEnGzLByGsDAXDiv4d\n",
      "\n",
      "4. NEW DROP - Don Toliver\n",
      "   앨범: Viral USA - Trending Now\n",
      "   발매일: 2025-08-27\n",
      "   인기도: 0/100\n",
      "   ID: 4DAeFo5Sh4lxZhBYFW1NU7\n",
      "\n",
      "5. How Sweet - NewJeans\n",
      "   앨범: How Sweet\n",
      "   발매일: 2024-05-24\n",
      "   인기도: 76/100\n",
      "   ID: 38tXZcL1gZRfbqfOG0VMTH\n",
      "\n"
     ]
    }
   ],
   "source": [
    "# 1. 트랙 검색\n",
    "search_results = spotify.search(\"NewJeans Get Up\", \"track\", limit=5)\n",
    "\n",
    "if search_results and 'tracks' in search_results:\n",
    "    print(\"=== '뉴진스 Get Up' 검색 결과 ===\")\n",
    "    for i, track in enumerate(search_results['tracks']['items'], 1):\n",
    "        artists = \", \".join([artist['name'] for artist in track['artists']])\n",
    "        print(f\"{i}. {track['name']} - {artists}\")\n",
    "        print(f\"   앨범: {track['album']['name']}\")\n",
    "        print(f\"   발매일: {track['album']['release_date']}\")\n",
    "        print(f\"   인기도: {track['popularity']}/100\")\n",
    "        print(f\"   ID: {track['id']}\")\n",
    "        print()\n",
    "else:\n",
    "    print(\"검색 결과가 없거나 API 호출에 실패했습니다.\")"
   ]
  },
  {
   "cell_type": "markdown",
   "execution_count": null,
   "metadata": {},
   "outputs": [],
   "source": "### 5.3 아티스트 정보 및 인기곡"
  },
  {
   "cell_type": "code",
   "metadata": {},
   "source": "# 아티스트 검색 및 정보\nartist_search = spotify.search(\"NewJeans\", \"artist\", limit=1)\n\nif artist_search and 'artists' in artist_search and artist_search['artists']['items']:\n    artist = artist_search['artists']['items'][0]\n    artist_id = artist['id']\n    \n    print(f\"=== {artist['name']} 아티스트 정보 ===\")\n    print(f\"장르: {', '.join(artist['genres']) if artist['genres'] else '정보 없음'}\")\n    print(f\"팔로워: {artist['followers']['total']:,}명\")\n    print(f\"인기도: {artist['popularity']}/100\")\n    print()\n    \n    # 아티스트의 인기곡 가져오기\n    top_tracks = spotify.get_artist_top_tracks(artist_id)\n    \n    if top_tracks and 'tracks' in top_tracks:\n        print(f\"=== {artist['name']} 인기곡 TOP 10 ===\")\n        for i, track in enumerate(top_tracks['tracks'], 1):\n            print(f\"{i:2d}. {track['name']}\")\n            print(f\"    앨범: {track['album']['name']} ({track['album']['release_date'][:4]})\")\n            print(f\"    인기도: {track['popularity']}/100\")\n            duration_sec = track['duration_ms'] // 1000\n            print(f\"    길이: {duration_sec // 60}:{duration_sec % 60:02d}\")\n            print()\nelse:\n    print(\"아티스트를 찾을 수 없습니다.\")"
  },
  {
   "cell_type": "markdown",
   "source": "## 6. 주의사항 및 베스트 프랙티스\n\n### 6.1 보안 관련\n- **절대로 Client Secret을 공개하지 마세요**\n- `.env` 파일을 사용하여 자격 증명을 관리하세요\n- `.env` 파일이 `.gitignore`에 포함되어 있는지 확인하세요\n\n### 6.2 API 사용량 관리\n- Spotify API는 Rate Limiting이 있음 (일반적으로 초당 100회 요청)\n- 요청 간 적절한 지연 시간 추가 (`time.sleep(0.1)`)\n- 대량 데이터는 배치로 처리\n\n### 6.3 현재 사용 가능한 Spotify API 기능\n- ✅ 트랙/아티스트/앨범 검색\n- ✅ 트랙 기본 정보 (이름, 아티스트, 앨범, 발매일, 인기도)\n- ✅ 아티스트 정보 (장르, 팔로워, 인기도)\n- ✅ 아티스트 인기곡\n\n### 6.4 토큰 관리\n- Access Token은 1시간 후 만료\n- 자동으로 새 토큰 발급 로직이 구현되어 있음\n- 토큰은 메모리에만 저장 (보안상 안전)",
   "metadata": {}
  }
 ],
 "metadata": {
  "kernelspec": {
   "display_name": "Python 3 (ipykernel)",
   "language": "python",
   "name": "python3"
  },
  "language_info": {
   "codemirror_mode": {
    "name": "ipython",
    "version": 3
   },
   "file_extension": ".py",
   "mimetype": "text/x-python",
   "name": "python",
   "nbconvert_exporter": "python",
   "pygments_lexer": "ipython3",
   "version": "3.10.18"
  }
 },
 "nbformat": 4,
 "nbformat_minor": 4
}