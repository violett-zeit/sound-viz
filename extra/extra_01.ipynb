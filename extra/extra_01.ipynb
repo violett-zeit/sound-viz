{
 "cells": [
  {
   "cell_type": "markdown",
   "metadata": {},
   "source": "# \ud2b9\uac15 01: Spotify API \ud65c\uc6a9 - Client Credentials Flow\n\n## \ud559\uc2b5 \ubaa9\ud45c\n- Spotify Client Credentials Flow\ub97c \uad6c\ud604\ud574\ubcf4\uc790\n- \uc544\ud2f0\uc2a4\ud2b8/\uc568\ubc94/\ud2b8\ub799 \uac80\uc0c9 \uae30\ub2a5\uc744 \uad6c\ud604\ud574\ubcf4\uc790\n- \uc74c\uc545 \ub370\uc774\ud130 \uc218\uc9d1 \ubc29\ubc95\uc744 \uc775\ud600\ubcf4\uc790"
  },
  {
   "cell_type": "code",
   "execution_count": null,
   "metadata": {},
   "outputs": [],
   "source": "# \ub77c\uc774\ube0c\ub7ec\ub9ac import\nimport requests\nimport base64\nimport time\nimport os\nfrom typing import Dict, List, Optional"
  },
  {
   "cell_type": "markdown",
   "metadata": {},
   "source": [
    "## 1. Spotify \uc571 \ub4f1\ub85d\n",
    "\n",
    "1. [Spotify for Developers](https://developer.spotify.com/) \uc811\uc18d\n",
    "2. \"Create App\" \ud074\ub9ad  \n",
    "3. **Redirect URI**: `http://localhost:8888/callback` (\ud544\uc218 \uc785\ub825, \uc2e4\uc81c\ub85c\ub294 \uc0ac\uc6a9\ud558\uc9c0 \uc54a\uc74c)\n",
    "4. Client ID\uc640 Client Secret \ud68d\ub4dd\n",
    "\n",
    "> **\ucc38\uace0**: Client Credentials Flow\uc5d0\uc11c\ub294 Redirect URI\ub97c \uc2e4\uc81c\ub85c \uc0ac\uc6a9\ud558\uc9c0 \uc54a\uc9c0\ub9cc, Spotify \uc571 \uc0dd\uc131 \uc2dc \ud544\uc218 \ud56d\ubaa9\uc785\ub2c8\ub2e4."
   ]
  },
  {
   "cell_type": "markdown",
   "metadata": {},
   "source": [
    "## 2. API \uc790\uaca9 \uc99d\uba85 \uc124\uc815 (.env \ud30c\uc77c)\n",
    "\n",
    ".env \ud30c\uc77c\uc744 \uc0ac\uc6a9\ud558\uc5ec \uc548\uc804\ud558\uac8c \uc790\uaca9 \uc99d\uba85\uc744 \uad00\ub9ac\ud569\ub2c8\ub2e4."
   ]
  },
  {
   "cell_type": "code",
   "execution_count": null,
   "metadata": {},
   "outputs": [],
   "source": [
    "def load_spotify_credentials():\n",
    "    \"\"\".env \ud30c\uc77c\uc5d0\uc11c Spotify API \uc790\uaca9 \uc99d\uba85\uc744 \ub85c\ub4dc\ud569\ub2c8\ub2e4.\"\"\"\n",
    "    env_file = '.env'\n",
    "    \n",
    "    # .env \ud30c\uc77c\uc774 \uc5c6\uc73c\uba74 \ud15c\ud50c\ub9bf \uc0dd\uc131\n",
    "    if not os.path.exists(env_file):\n",
    "        template_content = \"\"\"# Spotify API \uc790\uaca9 \uc99d\uba85\n",
    "SPOTIFY_CLIENT_ID=your_client_id_here\n",
    "SPOTIFY_CLIENT_SECRET=your_client_secret_here\n",
    "\"\"\"\n",
    "        with open(env_file, 'w') as f:\n",
    "            f.write(template_content)\n",
    "        \n",
    "        print(\"\ud83d\udcdd .env \ud30c\uc77c\uc774 \uc0dd\uc131\ub418\uc5c8\uc2b5\ub2c8\ub2e4!\")\n",
    "        print(\"   \uc2e4\uc81c Client ID\uc640 Secret\uc744 \uc785\ub825\ud558\uace0 \ub2e4\uc2dc \uc2e4\ud589\ud558\uc138\uc694\")\n",
    "        return None, None\n",
    "    \n",
    "    # .env \ud30c\uc77c\uc5d0\uc11c \uc77d\uae30\n",
    "    client_id = None\n",
    "    client_secret = None\n",
    "    \n",
    "    with open(env_file, 'r') as f:\n",
    "        for line in f:\n",
    "            line = line.strip()\n",
    "            if line and not line.startswith('#') and '=' in line:\n",
    "                key, value = line.split('=', 1)\n",
    "                if key == 'SPOTIFY_CLIENT_ID':\n",
    "                    client_id = value\n",
    "                elif key == 'SPOTIFY_CLIENT_SECRET':\n",
    "                    client_secret = value\n",
    "    \n",
    "    if client_id == 'your_client_id_here' or client_secret == 'your_client_secret_here':\n",
    "        print(\"\u26a0\ufe0f .env \ud30c\uc77c\uc5d0 \uc2e4\uc81c \uac12\uc744 \uc785\ub825\ud574\uc8fc\uc138\uc694!\")\n",
    "        return None, None\n",
    "    \n",
    "    if client_id and client_secret:\n",
    "        print(\"\u2705 .env \ud30c\uc77c\uc5d0\uc11c \uc790\uaca9 \uc99d\uba85\uc744 \ub85c\ub4dc\ud588\uc2b5\ub2c8\ub2e4.\")\n",
    "        return client_id, client_secret\n",
    "    else:\n",
    "        print(\"\u274c .env \ud30c\uc77c\uc5d0 \uc790\uaca9 \uc99d\uba85\uc774 \uc5c6\uc2b5\ub2c8\ub2e4.\")\n",
    "        return None, None\n",
    "\n",
    "# \uc790\uaca9 \uc99d\uba85 \ub85c\ub4dc\n",
    "CLIENT_ID, CLIENT_SECRET = load_spotify_credentials()"
   ]
  },
  {
   "cell_type": "markdown",
   "metadata": {},
   "source": [
    "## 3. Client Credentials Flow \ud1a0\ud070 \ubc1c\uae09\n",
    "\n",
    "OAuth \uc11c\ubc84 \uc5c6\uc774 \uac04\ub2e8\ud558\uac8c \ud1a0\ud070\uc744 \ubc1c\uae09\ubc1b\uc2b5\ub2c8\ub2e4."
   ]
  },
  {
   "cell_type": "code",
   "execution_count": null,
   "metadata": {},
   "outputs": [],
   "source": "class SpotifyClientCredentials:\n    def __init__(self, client_id: str, client_secret: str):\n        self.client_id = client_id\n        self.client_secret = client_secret\n        self.access_token = None\n        self.token_expires_at = 0\n        \n    def get_access_token(self) -> Optional[str]:\n        \"\"\"Client Credentials Flow\ub85c \uc561\uc138\uc2a4 \ud1a0\ud070 \ubc1c\uae09\"\"\"\n        # \ud1a0\ud070\uc774 \uc720\ud6a8\ud558\uba74 \uc7ac\uc0ac\uc6a9\n        if self.access_token and time.time() < self.token_expires_at:\n            return self.access_token\n            \n        # \uc0c8 \ud1a0\ud070 \ubc1c\uae09\n        credentials = f\"{self.client_id}:{self.client_secret}\"\n        encoded_credentials = base64.b64encode(credentials.encode()).decode()\n        \n        headers = {\n            'Authorization': f'Basic {encoded_credentials}',\n            'Content-Type': 'application/x-www-form-urlencoded'\n        }\n        \n        data = {'grant_type': 'client_credentials'}\n        \n        response = requests.post('https://accounts.spotify.com/api/token', \n                               headers=headers, data=data)\n        \n        if response.status_code == 200:\n            token_data = response.json()\n            self.access_token = token_data['access_token']\n            expires_in = token_data.get('expires_in', 3600)\n            self.token_expires_at = time.time() + expires_in - 60  # 1\ubd84 \uc5ec\uc720\n            \n            print(\"\u2705 \uc561\uc138\uc2a4 \ud1a0\ud070\uc744 \uc131\uacf5\uc801\uc73c\ub85c \ubc1c\uae09\ubc1b\uc558\uc2b5\ub2c8\ub2e4!\")\n            return self.access_token\n        else:\n            print(f\"\u274c \ud1a0\ud070 \ubc1c\uae09 \uc2e4\ud328: {response.status_code}\")\n            return None\n\nprint(\"\u2705 SpotifyClientCredentials \ud074\ub798\uc2a4 \uc815\uc758 \uc644\ub8cc!\")"
  },
  {
   "cell_type": "markdown",
   "metadata": {},
   "source": [
    "## 4. Spotify API \ud074\ub77c\uc774\uc5b8\ud2b8 \uad6c\ud604\n",
    "\n",
    "Client Credentials\ub85c \ubc1c\uae09\ubc1b\uc740 \ud1a0\ud070\uc73c\ub85c Spotify API\ub97c \ud638\ucd9c\ud558\ub294 \ud074\ub798\uc2a4\uc785\ub2c8\ub2e4."
   ]
  },
  {
   "cell_type": "code",
   "execution_count": null,
   "metadata": {},
   "outputs": [],
   "source": "class SpotifyAPI:\n    def __init__(self, client_credentials: SpotifyClientCredentials):\n        self.auth = client_credentials\n        self.base_url = \"https://api.spotify.com/v1\"\n    \n    def _get_headers(self) -> Optional[Dict]:\n        \"\"\"API \uc694\uccad \ud5e4\ub354 \uc0dd\uc131\"\"\"\n        token = self.auth.get_access_token()\n        if not token:\n            return None\n        return {\"Authorization\": f\"Bearer {token}\"}\n    \n    def search(self, query: str, search_type: str = \"track\", limit: int = 20) -> Optional[Dict]:\n        \"\"\"\uc74c\uc545 \uac80\uc0c9 (track, artist, album)\"\"\"\n        headers = self._get_headers()\n        if not headers:\n            return None\n            \n        params = {\n            \"q\": query,\n            \"type\": search_type,\n            \"limit\": limit\n        }\n        \n        response = requests.get(f\"{self.base_url}/search\", \n                               headers=headers, params=params)\n        return response.json() if response.status_code == 200 else None\n    \n    def get_track(self, track_id: str) -> Optional[Dict]:\n        \"\"\"\ud2b9\uc815 \ud2b8\ub799 \uc815\ubcf4 \uac00\uc838\uc624\uae30\"\"\"\n        headers = self._get_headers()\n        if not headers:\n            return None\n            \n        response = requests.get(f\"{self.base_url}/tracks/{track_id}\", \n                               headers=headers)\n        return response.json() if response.status_code == 200 else None\n    \n    def get_artist(self, artist_id: str) -> Optional[Dict]:\n        \"\"\"\ud2b9\uc815 \uc544\ud2f0\uc2a4\ud2b8 \uc815\ubcf4 \uac00\uc838\uc624\uae30\"\"\"\n        headers = self._get_headers()\n        if not headers:\n            return None\n            \n        response = requests.get(f\"{self.base_url}/artists/{artist_id}\", \n                               headers=headers)\n        return response.json() if response.status_code == 200 else None\n    \n    def get_artist_top_tracks(self, artist_id: str, market: str = \"US\") -> Optional[Dict]:\n        \"\"\"\uc544\ud2f0\uc2a4\ud2b8\uc758 \uc778\uae30\uace1 \uac00\uc838\uc624\uae30\"\"\"\n        headers = self._get_headers()\n        if not headers:\n            return None\n            \n        params = {\"market\": market}\n        response = requests.get(f\"{self.base_url}/artists/{artist_id}/top-tracks\", \n                               headers=headers, params=params)\n        return response.json() if response.status_code == 200 else None\n\nprint(\"\u2705 SpotifyAPI \ud074\ub798\uc2a4 \uc815\uc758 \uc644\ub8cc!\")"
  },
  {
   "cell_type": "markdown",
   "metadata": {},
   "source": [
    "## 5. \uc2e4\uc81c \uc0ac\uc6a9 \uc608\uc2dc\n",
    "\n",
    "### 5.1 API \ud074\ub77c\uc774\uc5b8\ud2b8 \uc0dd\uc131"
   ]
  },
  {
   "cell_type": "code",
   "execution_count": null,
   "metadata": {},
   "outputs": [],
   "source": [
    "# \uc790\uaca9 \uc99d\uba85\uc774 \ub85c\ub4dc\ub418\uc5c8\ub2e4\uba74 API \ud074\ub77c\uc774\uc5b8\ud2b8 \uc0dd\uc131\n",
    "if CLIENT_ID and CLIENT_SECRET:\n",
    "    # \uc778\uc99d \uac1d\uccb4 \uc0dd\uc131\n",
    "    auth = SpotifyClientCredentials(CLIENT_ID, CLIENT_SECRET)\n",
    "    \n",
    "    # API \ud074\ub77c\uc774\uc5b8\ud2b8 \uc0dd\uc131\n",
    "    spotify = SpotifyAPI(auth)\n",
    "    \n",
    "    print(\"\u2705 Spotify API \ud074\ub77c\uc774\uc5b8\ud2b8\uac00 \uc0dd\uc131\ub418\uc5c8\uc2b5\ub2c8\ub2e4.\")\n",
    "    print(\"   \ub2e4\uc74c \uc140\uc5d0\uc11c API\ub97c \uc0ac\uc6a9\ud574\ubcf4\uc138\uc694.\")\n",
    "else:\n",
    "    print(\"\u274c \uba3c\uc800 .env \ud30c\uc77c\uc5d0 \uc790\uaca9 \uc99d\uba85\uc744 \uc785\ub825\ud558\uc138\uc694!\")"
   ]
  },
  {
   "cell_type": "markdown",
   "metadata": {},
   "source": [
    "### 5.2 \uc74c\uc545 \uac80\uc0c9\ud558\uae30"
   ]
  },
  {
   "cell_type": "code",
   "execution_count": null,
   "metadata": {},
   "outputs": [],
   "source": [
    "# 1. \ud2b8\ub799 \uac80\uc0c9\n",
    "search_results = spotify.search(\"NewJeans Get Up\", \"track\", limit=5)\n",
    "\n",
    "if search_results and 'tracks' in search_results:\n",
    "    print(\"=== '\ub274\uc9c4\uc2a4 Get Up' \uac80\uc0c9 \uacb0\uacfc ===\")\n",
    "    for i, track in enumerate(search_results['tracks']['items'], 1):\n",
    "        artists = \", \".join([artist['name'] for artist in track['artists']])\n",
    "        print(f\"{i}. {track['name']} - {artists}\")\n",
    "        print(f\"   \uc568\ubc94: {track['album']['name']}\")\n",
    "        print(f\"   \ubc1c\ub9e4\uc77c: {track['album']['release_date']}\")\n",
    "        print(f\"   \uc778\uae30\ub3c4: {track['popularity']}/100\")\n",
    "        print(f\"   ID: {track['id']}\")\n",
    "        print()\n",
    "else:\n",
    "    print(\"\uac80\uc0c9 \uacb0\uacfc\uac00 \uc5c6\uac70\ub098 API \ud638\ucd9c\uc5d0 \uc2e4\ud328\ud588\uc2b5\ub2c8\ub2e4.\")"
   ]
  },
  {
   "cell_type": "markdown",
   "execution_count": null,
   "metadata": {},
   "source": "### 5.3 \uc544\ud2f0\uc2a4\ud2b8 \uc815\ubcf4 \ubc0f \uc778\uae30\uace1"
  },
  {
   "cell_type": "code",
   "metadata": {},
   "source": "# \uc544\ud2f0\uc2a4\ud2b8 \uac80\uc0c9 \ubc0f \uc815\ubcf4\nartist_search = spotify.search(\"NewJeans\", \"artist\", limit=1)\n\nif artist_search and 'artists' in artist_search and artist_search['artists']['items']:\n    artist = artist_search['artists']['items'][0]\n    artist_id = artist['id']\n    \n    print(f\"=== {artist['name']} \uc544\ud2f0\uc2a4\ud2b8 \uc815\ubcf4 ===\")\n    print(f\"\uc7a5\ub974: {', '.join(artist['genres']) if artist['genres'] else '\uc815\ubcf4 \uc5c6\uc74c'}\")\n    print(f\"\ud314\ub85c\uc6cc: {artist['followers']['total']:,}\uba85\")\n    print(f\"\uc778\uae30\ub3c4: {artist['popularity']}/100\")\n    print()\n    \n    # \uc544\ud2f0\uc2a4\ud2b8\uc758 \uc778\uae30\uace1 \uac00\uc838\uc624\uae30\n    top_tracks = spotify.get_artist_top_tracks(artist_id)\n    \n    if top_tracks and 'tracks' in top_tracks:\n        print(f\"=== {artist['name']} \uc778\uae30\uace1 TOP 10 ===\")\n        for i, track in enumerate(top_tracks['tracks'], 1):\n            print(f\"{i:2d}. {track['name']}\")\n            print(f\"    \uc568\ubc94: {track['album']['name']} ({track['album']['release_date'][:4]})\")\n            print(f\"    \uc778\uae30\ub3c4: {track['popularity']}/100\")\n            duration_sec = track['duration_ms'] // 1000\n            print(f\"    \uae38\uc774: {duration_sec // 60}:{duration_sec % 60:02d}\")\n            print()\nelse:\n    print(\"\uc544\ud2f0\uc2a4\ud2b8\ub97c \ucc3e\uc744 \uc218 \uc5c6\uc2b5\ub2c8\ub2e4.\")",
   "outputs": [],
   "execution_count": null
  },
  {
   "cell_type": "markdown",
   "source": "## 6. \uc8fc\uc758\uc0ac\ud56d \ubc0f \ubca0\uc2a4\ud2b8 \ud504\ub799\ud2f0\uc2a4\n\n### 6.1 \ubcf4\uc548 \uad00\ub828\n- **\uc808\ub300\ub85c Client Secret\uc744 \uacf5\uac1c\ud558\uc9c0 \ub9c8\uc138\uc694**\n- `.env` \ud30c\uc77c\uc744 \uc0ac\uc6a9\ud558\uc5ec \uc790\uaca9 \uc99d\uba85\uc744 \uad00\ub9ac\ud558\uc138\uc694\n- `.env` \ud30c\uc77c\uc774 `.gitignore`\uc5d0 \ud3ec\ud568\ub418\uc5b4 \uc788\ub294\uc9c0 \ud655\uc778\ud558\uc138\uc694\n\n### 6.2 API \uc0ac\uc6a9\ub7c9 \uad00\ub9ac\n- Spotify API\ub294 Rate Limiting\uc774 \uc788\uc74c (\uc77c\ubc18\uc801\uc73c\ub85c \ucd08\ub2f9 100\ud68c \uc694\uccad)\n- \uc694\uccad \uac04 \uc801\uc808\ud55c \uc9c0\uc5f0 \uc2dc\uac04 \ucd94\uac00 (`time.sleep(0.1)`)\n- \ub300\ub7c9 \ub370\uc774\ud130\ub294 \ubc30\uce58\ub85c \ucc98\ub9ac\n\n### 6.3 \ud604\uc7ac \uc0ac\uc6a9 \uac00\ub2a5\ud55c Spotify API \uae30\ub2a5\n- \u2705 \ud2b8\ub799/\uc544\ud2f0\uc2a4\ud2b8/\uc568\ubc94 \uac80\uc0c9\n- \u2705 \ud2b8\ub799 \uae30\ubcf8 \uc815\ubcf4 (\uc774\ub984, \uc544\ud2f0\uc2a4\ud2b8, \uc568\ubc94, \ubc1c\ub9e4\uc77c, \uc778\uae30\ub3c4)\n- \u2705 \uc544\ud2f0\uc2a4\ud2b8 \uc815\ubcf4 (\uc7a5\ub974, \ud314\ub85c\uc6cc, \uc778\uae30\ub3c4)\n- \u2705 \uc544\ud2f0\uc2a4\ud2b8 \uc778\uae30\uace1\n\n### 6.4 \ud1a0\ud070 \uad00\ub9ac\n- Access Token\uc740 1\uc2dc\uac04 \ud6c4 \ub9cc\ub8cc\n- \uc790\ub3d9\uc73c\ub85c \uc0c8 \ud1a0\ud070 \ubc1c\uae09 \ub85c\uc9c1\uc774 \uad6c\ud604\ub418\uc5b4 \uc788\uc74c\n- \ud1a0\ud070\uc740 \uba54\ubaa8\ub9ac\uc5d0\ub9cc \uc800\uc7a5 (\ubcf4\uc548\uc0c1 \uc548\uc804)",
   "metadata": {}
  }
 ],
 "metadata": {
  "kernelspec": {
   "display_name": "Python 3 (ipykernel)",
   "language": "python",
   "name": "python3"
  },
  "language_info": {
   "codemirror_mode": {
    "name": "ipython",
    "version": 3
   },
   "file_extension": ".py",
   "mimetype": "text/x-python",
   "name": "python",
   "nbconvert_exporter": "python",
   "pygments_lexer": "ipython3",
   "version": "3.10.18"
  }
 },
 "nbformat": 4,
 "nbformat_minor": 4
}